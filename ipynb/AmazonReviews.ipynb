{
 "cells": [
  {
   "cell_type": "code",
   "execution_count": 227,
   "id": "5ec0958d-1181-4523-b13b-50481c924af6",
   "metadata": {},
   "outputs": [],
   "source": [
    "import pandas as pd \n",
    "import numpy as np\n",
    "import nltk\n",
    "from nltk.tokenize import sent_tokenize, word_tokenize\n",
    "from gensim.test.utils import common_texts\n",
    "from gensim.models import Word2Vec\n",
    "import gensim\n",
    "from torch.utils.data import Dataset, DataLoader\n",
    "import torch\n",
    "import numpy as np\n",
    "import torch.nn as nn\n",
    "import random\n",
    "\n",
    "#When having mismatch between lib versions in Jupyter, RELOAD THE KERNEL!!\n",
    "#https://stackoverflow.com/questions/61366994/jupyter-notebook-does-not-reflect-library-version-change-in-virtualenvironment\n",
    "\n",
    "#https://www.kaggle.com/datasets/kritanjalijain/amazon-reviews\n",
    "#1-Negative\n",
    "#2-Positive"
   ]
  },
  {
   "cell_type": "code",
   "execution_count": 256,
   "id": "1716cdc6-6d9c-46c7-b9ec-74f60c431dcf",
   "metadata": {},
   "outputs": [],
   "source": [
    "model = gensim.models.KeyedVectors.load_word2vec_format('GoogleNews-vectors-negative300.bin', binary=True)"
   ]
  },
  {
   "cell_type": "code",
   "execution_count": 471,
   "id": "b337d91b-abc5-4545-a005-711e302c62a8",
   "metadata": {},
   "outputs": [],
   "source": [
    "df=pd.read_csv(\"train.csv\")"
   ]
  },
  {
   "cell_type": "code",
   "execution_count": 472,
   "id": "bd575a93-e87d-4a00-abbd-7dff8572d540",
   "metadata": {},
   "outputs": [],
   "source": [
    "df=df.dropna()\n",
    "df=df.replace({'\\n': ' '})"
   ]
  },
  {
   "cell_type": "code",
   "execution_count": 473,
   "id": "b4a999d4-7d8e-4b64-b284-42eb22502f86",
   "metadata": {},
   "outputs": [
    {
     "data": {
      "text/html": [
       "<div>\n",
       "<style scoped>\n",
       "    .dataframe tbody tr th:only-of-type {\n",
       "        vertical-align: middle;\n",
       "    }\n",
       "\n",
       "    .dataframe tbody tr th {\n",
       "        vertical-align: top;\n",
       "    }\n",
       "\n",
       "    .dataframe thead th {\n",
       "        text-align: right;\n",
       "    }\n",
       "</style>\n",
       "<table border=\"1\" class=\"dataframe\">\n",
       "  <thead>\n",
       "    <tr style=\"text-align: right;\">\n",
       "      <th></th>\n",
       "      <th>2</th>\n",
       "      <th>Stuning even for the non-gamer</th>\n",
       "      <th>This sound track was beautiful! It paints the senery in your mind so well I would recomend it even to people who hate vid. game music! I have played the game Chrono Cross but out of all of the games I have ever played it has the best music! It backs away from crude keyboarding and takes a fresher step with grate guitars and soulful orchestras. It would impress anyone who cares to listen! ^_^</th>\n",
       "    </tr>\n",
       "  </thead>\n",
       "  <tbody>\n",
       "    <tr>\n",
       "      <th>0</th>\n",
       "      <td>2</td>\n",
       "      <td>The best soundtrack ever to anything.</td>\n",
       "      <td>I'm reading a lot of reviews saying that this ...</td>\n",
       "    </tr>\n",
       "    <tr>\n",
       "      <th>1</th>\n",
       "      <td>2</td>\n",
       "      <td>Amazing!</td>\n",
       "      <td>This soundtrack is my favorite music of all ti...</td>\n",
       "    </tr>\n",
       "  </tbody>\n",
       "</table>\n",
       "</div>"
      ],
      "text/plain": [
       "   2         Stuning even for the non-gamer  \\\n",
       "0  2  The best soundtrack ever to anything.   \n",
       "1  2                               Amazing!   \n",
       "\n",
       "  This sound track was beautiful! It paints the senery in your mind so well I would recomend it even to people who hate vid. game music! I have played the game Chrono Cross but out of all of the games I have ever played it has the best music! It backs away from crude keyboarding and takes a fresher step with grate guitars and soulful orchestras. It would impress anyone who cares to listen! ^_^  \n",
       "0  I'm reading a lot of reviews saying that this ...                                                                                                                                                                                                                                                                                                                                                          \n",
       "1  This soundtrack is my favorite music of all ti...                                                                                                                                                                                                                                                                                                                                                          "
      ]
     },
     "execution_count": 473,
     "metadata": {},
     "output_type": "execute_result"
    }
   ],
   "source": [
    "df.head(n=2)"
   ]
  },
  {
   "cell_type": "code",
   "execution_count": 474,
   "id": "2b057972-c9ee-41d4-b9c3-1d3940f83616",
   "metadata": {},
   "outputs": [
    {
     "name": "stdout",
     "output_type": "stream",
     "text": [
      "[[0. 1.]\n",
      " [0. 1.]\n",
      " [0. 1.]\n",
      " [0. 1.]\n",
      " [0. 1.]\n",
      " [1. 0.]\n",
      " [0. 1.]\n",
      " [0. 1.]\n",
      " [0. 1.]\n",
      " [1. 0.]]\n"
     ]
    }
   ],
   "source": [
    "ratings=df.iloc[:, 0]\n",
    "ratings=[[0, 1] if r==2 else [1,0] for r in ratings] #[0,1]-Positive, [1,0]-Negative\n",
    "ratings=np.float64(np.array(ratings))\n",
    "print (ratings[:10])"
   ]
  },
  {
   "cell_type": "code",
   "execution_count": 475,
   "id": "92ee4362-7b2c-4702-9099-f78a78fba9f4",
   "metadata": {},
   "outputs": [],
   "source": [
    "reviews=df.iloc[:, 1:]\n",
    "reviews=reviews.to_numpy()\n",
    "reviews=reviews[:, 0]+' '+reviews[:, 1]"
   ]
  },
  {
   "cell_type": "code",
   "execution_count": 476,
   "id": "e5f20353-32c7-4249-8b13-1af073e03792",
   "metadata": {},
   "outputs": [
    {
     "name": "stdout",
     "output_type": "stream",
     "text": [
      "Amazing! This soundtrack is my favorite music of all time, hands down. The intense sadness of \"Prisoners of Fate\" (which means all the more if you've played the game) and the hope in \"A Distant Promis...\n"
     ]
    }
   ],
   "source": [
    "print(str(reviews[1][:200])+'...')"
   ]
  },
  {
   "cell_type": "code",
   "execution_count": 478,
   "id": "e8c58471-d081-4a28-a706-870c20a7f36b",
   "metadata": {},
   "outputs": [
    {
     "name": "stdout",
     "output_type": "stream",
     "text": [
      "['The', 'best', 'soundtrack', 'ever', 'to', 'anything', '.', 'I', \"'m\", 'reading', 'a', 'lot', 'of', 'reviews', 'saying', 'that', 'this', 'is', 'the', 'best'] ...\n"
     ]
    }
   ],
   "source": [
    "#nltk.download('punkt')\n",
    "reviews=reviews[:10000] #First 10000 elements\n",
    "ratings=ratings[:10000]\n",
    "tokens=[]\n",
    "for i in range(len(reviews)):\n",
    "    token=word_tokenize(reviews[i])\n",
    "    tokens.append(token)\n",
    "print(tokens[0][:20],'...')"
   ]
  },
  {
   "cell_type": "code",
   "execution_count": 479,
   "id": "c1c5c72d-b7ac-4fc3-be29-f2bfdc5d0b38",
   "metadata": {},
   "outputs": [
    {
     "name": "stdout",
     "output_type": "stream",
     "text": [
      "10000 10000\n"
     ]
    }
   ],
   "source": [
    "print (len(reviews), len(ratings))"
   ]
  },
  {
   "cell_type": "code",
   "execution_count": 480,
   "id": "789b89b1-0761-40f2-887e-e6cb65b7c8c8",
   "metadata": {},
   "outputs": [],
   "source": [
    "review_vecs=[]\n",
    "for token in tokens:\n",
    "    vecs=[]\n",
    "    for tk in token:\n",
    "        if tk not in model:\n",
    "            continue\n",
    "        vec=model[tk]\n",
    "        vecs.append(vec)\n",
    "        \n",
    "    vecs=vecs[:100]\n",
    "    for i in range(len(vecs), 100):\n",
    "        vecs.append(np.zeros(shape=[300]))\n",
    "    review_vecs.append(vecs)"
   ]
  },
  {
   "cell_type": "code",
   "execution_count": 481,
   "id": "039a06c3-9679-474a-9a2f-0a94c6f795db",
   "metadata": {},
   "outputs": [
    {
     "name": "stdout",
     "output_type": "stream",
     "text": [
      "(10000, 100, 300) float64 10000\n"
     ]
    }
   ],
   "source": [
    "review_vecs=np.array(review_vecs)\n",
    "#review_vecs=np.float32(review_vecs)\n",
    "print (review_vecs.shape, review_vecs.dtype, len(ratings))"
   ]
  },
  {
   "cell_type": "code",
   "execution_count": 482,
   "id": "7401d07d-e1d1-4daf-9295-f47637fbf764",
   "metadata": {},
   "outputs": [
    {
     "name": "stdout",
     "output_type": "stream",
     "text": [
      "[[-1.05957031e-01  2.13867188e-01  1.18652344e-01 ...  1.06933594e-01\n",
      "   2.36816406e-02 -3.54003906e-02]\n",
      " [ 1.37695312e-01 -1.79687500e-01 -3.27148438e-02 ... -2.85156250e-01\n",
      "  -1.42578125e-01 -9.96093750e-02]\n",
      " [ 2.38281250e-01  1.51367188e-01 -6.44531250e-02 ... -4.45312500e-01\n",
      "   6.39648438e-02 -1.90734863e-04]\n",
      " ...\n",
      " [ 3.84765625e-01  7.22656250e-02  1.83593750e-01 ... -6.10351562e-02\n",
      "  -2.37304688e-01  1.52343750e-01]\n",
      " [-1.69921875e-01  2.01171875e-01  2.05078125e-01 ...  1.79687500e-01\n",
      "   2.11914062e-01 -1.86523438e-01]\n",
      " [ 7.04956055e-03 -7.32421875e-02  1.71875000e-01 ...  1.12304688e-02\n",
      "   1.64062500e-01  1.06933594e-01]]\n"
     ]
    }
   ],
   "source": [
    "max=len(review_vecs)\n",
    "print(review_vecs[random.randint(0, max)])"
   ]
  },
  {
   "cell_type": "code",
   "execution_count": 494,
   "id": "549a9b8e-834a-41ad-a918-424462cdeea9",
   "metadata": {},
   "outputs": [],
   "source": [
    "device = torch.device(\"cuda\" if torch.cuda.is_available() else \"cpu\")"
   ]
  },
  {
   "cell_type": "code",
   "execution_count": 500,
   "id": "f0707b32-f41c-46fd-8211-fe029f773192",
   "metadata": {},
   "outputs": [],
   "source": [
    "class AmazonDataset(Dataset):\n",
    "    def __init__(self, vecs, rating, device, transform=None):\n",
    "        self.review_vecs=torch.from_numpy(vecs).to(device)\n",
    "        self.ratings=torch.from_numpy(rating).to(device)\n",
    "    def __len__(self):\n",
    "        return len(ratings)\n",
    "    def __getitem__(self, idx):\n",
    "        return self.review_vecs[idx].reshape(1, -1), self.ratings[idx]"
   ]
  },
  {
   "cell_type": "code",
   "execution_count": 501,
   "id": "896271bf-7a34-462a-97e9-e10bf7406adb",
   "metadata": {},
   "outputs": [],
   "source": [
    "train_dataset=AmazonDataset(review_vecs, ratings, device)\n",
    "train_datalod=DataLoader(train_dataset, shuffle=True, batch_size=1000)"
   ]
  },
  {
   "cell_type": "code",
   "execution_count": 502,
   "id": "615051ad-618d-4e1b-8866-190a05f5c5ab",
   "metadata": {},
   "outputs": [
    {
     "data": {
      "text/plain": [
       "10000"
      ]
     },
     "execution_count": 502,
     "metadata": {},
     "output_type": "execute_result"
    }
   ],
   "source": [
    "len(train_dataset)"
   ]
  },
  {
   "cell_type": "code",
   "execution_count": 503,
   "id": "bd52d2e9-6f7a-4319-a726-ebfafc6d46c3",
   "metadata": {},
   "outputs": [],
   "source": [
    "class ReviewModel(nn.Module):\n",
    "    def __init__(self, n_hidden):\n",
    "        super().__init__()\n",
    "        self.l1=nn.Linear(30000, n_hidden).double()\n",
    "        self.lrl=nn.LeakyReLU().double()\n",
    "        self.l2=nn.Linear(n_hidden, n_hidden).double()\n",
    "        self.rl=nn.ReLU().double()\n",
    "        self.l3=nn.Linear(n_hidden, 2).double()\n",
    "    def forward(self, x):\n",
    "        x=self.lrl(self.l1(x))\n",
    "        x=self.lrl(self.l2(x))\n",
    "        x=self.l3(x)\n",
    "        return x"
   ]
  },
  {
   "cell_type": "code",
   "execution_count": 512,
   "id": "c0e0f949-1970-4ecf-bd58-60c86ee6e843",
   "metadata": {},
   "outputs": [],
   "source": [
    "rmodel=ReviewModel(1000).to(device)\n",
    "optimizer=torch.optim.SGD(params=rmodel.parameters(), lr=0.001)\n",
    "loss_fn=nn.CrossEntropyLoss()\n",
    "n_epochs=20"
   ]
  },
  {
   "cell_type": "code",
   "execution_count": 513,
   "id": "9199bbe3-2c83-4136-979e-7793cb299106",
   "metadata": {},
   "outputs": [
    {
     "name": "stdout",
     "output_type": "stream",
     "text": [
      "Epoch 1, Index: 0, Loss: 7600.856730059095\n",
      "Epoch 1, Index: 2, Loss: 7597.225043460961\n",
      "Epoch 1, Index: 4, Loss: 7592.27988604401\n",
      "Epoch 1, Index: 6, Loss: 7589.778647027404\n",
      "Epoch 1, Index: 8, Loss: 7580.354433091226\n",
      "Epoch 2, Index: 0, Loss: 7581.828136552391\n",
      "Epoch 2, Index: 2, Loss: 7696.810148941853\n",
      "Epoch 2, Index: 4, Loss: 7596.042124149048\n",
      "Epoch 2, Index: 6, Loss: 7586.85599649416\n",
      "Epoch 2, Index: 8, Loss: 7574.198728080288\n",
      "Epoch 3, Index: 0, Loss: 7545.489405423268\n",
      "Epoch 3, Index: 2, Loss: 7800.267648590223\n",
      "Epoch 3, Index: 4, Loss: 7598.025295410759\n",
      "Epoch 3, Index: 6, Loss: 7592.370931679016\n",
      "Epoch 3, Index: 8, Loss: 7583.972786486422\n",
      "Epoch 4, Index: 0, Loss: 7564.004813356671\n",
      "Epoch 4, Index: 2, Loss: 7535.126472695964\n",
      "Epoch 4, Index: 4, Loss: 7713.495865553624\n",
      "Epoch 4, Index: 6, Loss: 7608.581067831043\n",
      "Epoch 4, Index: 8, Loss: 7602.955243982084\n"
     ]
    },
    {
     "ename": "KeyboardInterrupt",
     "evalue": "",
     "output_type": "error",
     "traceback": [
      "\u001b[0;31m---------------------------------------------------------------------------\u001b[0m",
      "\u001b[0;31mKeyboardInterrupt\u001b[0m                         Traceback (most recent call last)",
      "Cell \u001b[0;32mIn[513], line 21\u001b[0m\n\u001b[1;32m     18\u001b[0m optimizer\u001b[38;5;241m.\u001b[39mzero_grad()\n\u001b[1;32m     19\u001b[0m \u001b[38;5;28;01mif\u001b[39;00m i\u001b[38;5;241m%\u001b[39m\u001b[38;5;241m2\u001b[39m\u001b[38;5;241m==\u001b[39m\u001b[38;5;241m0\u001b[39m:\n\u001b[1;32m     20\u001b[0m     \u001b[38;5;66;03m#print(y_pred)\u001b[39;00m\n\u001b[0;32m---> 21\u001b[0m     \u001b[38;5;28mprint\u001b[39m (\u001b[38;5;124mf\u001b[39m\u001b[38;5;124m\"\u001b[39m\u001b[38;5;124mEpoch \u001b[39m\u001b[38;5;132;01m{\u001b[39;00mepoch\u001b[38;5;241m+\u001b[39m\u001b[38;5;241m1\u001b[39m\u001b[38;5;132;01m}\u001b[39;00m\u001b[38;5;124m, Index: \u001b[39m\u001b[38;5;132;01m{\u001b[39;00mi\u001b[38;5;132;01m}\u001b[39;00m\u001b[38;5;124m, Loss: \u001b[39m\u001b[38;5;132;01m{\u001b[39;00mloss\u001b[38;5;132;01m}\u001b[39;00m\u001b[38;5;124m\"\u001b[39m)\n\u001b[1;32m     22\u001b[0m i\u001b[38;5;241m+\u001b[39m\u001b[38;5;241m=\u001b[39m\u001b[38;5;241m1\u001b[39m\n",
      "File \u001b[0;32m~/Documents/IOAI/Notebooks/venv/lib/python3.10/site-packages/torch/_tensor.py:990\u001b[0m, in \u001b[0;36mTensor.__format__\u001b[0;34m(self, format_spec)\u001b[0m\n\u001b[1;32m    988\u001b[0m     \u001b[38;5;28;01mreturn\u001b[39;00m handle_torch_function(Tensor\u001b[38;5;241m.\u001b[39m\u001b[38;5;21m__format__\u001b[39m, (\u001b[38;5;28mself\u001b[39m,), \u001b[38;5;28mself\u001b[39m, format_spec)\n\u001b[1;32m    989\u001b[0m \u001b[38;5;28;01mif\u001b[39;00m \u001b[38;5;28mself\u001b[39m\u001b[38;5;241m.\u001b[39mdim() \u001b[38;5;241m==\u001b[39m \u001b[38;5;241m0\u001b[39m \u001b[38;5;129;01mand\u001b[39;00m \u001b[38;5;129;01mnot\u001b[39;00m \u001b[38;5;28mself\u001b[39m\u001b[38;5;241m.\u001b[39mis_meta \u001b[38;5;129;01mand\u001b[39;00m \u001b[38;5;28mtype\u001b[39m(\u001b[38;5;28mself\u001b[39m) \u001b[38;5;129;01mis\u001b[39;00m Tensor:\n\u001b[0;32m--> 990\u001b[0m     \u001b[38;5;28;01mreturn\u001b[39;00m \u001b[38;5;28;43mself\u001b[39;49m\u001b[38;5;241;43m.\u001b[39;49m\u001b[43mitem\u001b[49m\u001b[43m(\u001b[49m\u001b[43m)\u001b[49m\u001b[38;5;241m.\u001b[39m\u001b[38;5;21m__format__\u001b[39m(format_spec)\n\u001b[1;32m    991\u001b[0m \u001b[38;5;28;01mreturn\u001b[39;00m \u001b[38;5;28mobject\u001b[39m\u001b[38;5;241m.\u001b[39m\u001b[38;5;21m__format__\u001b[39m(\u001b[38;5;28mself\u001b[39m, format_spec)\n",
      "\u001b[0;31mKeyboardInterrupt\u001b[0m: "
     ]
    }
   ],
   "source": [
    "for epoch in range(n_epochs):\n",
    "    i=0\n",
    "    for X, y in train_datalod:\n",
    "        #print(X)\n",
    "        #print(torch.isnan(X).any(), torch.isnan(y).any(), torch.isnan(y_pred).any())\n",
    "        y_pred=rmodel(X)\n",
    "        y_pred=y_pred.reshape(1, -1)\n",
    "        y=y.reshape(1, -1)\n",
    "        #print(X.shape, y_pred.shape, y.shape)\n",
    "        #print(X)\n",
    "        #print(\"X:\", X)\n",
    "        #print(\"y_pred:\", y_pred)\n",
    "        #print(\"y:\", y)\n",
    "        #break\n",
    "        loss=loss_fn(y_pred, y).double()\n",
    "        loss.backward()\n",
    "        optimizer.step()\n",
    "        optimizer.zero_grad()\n",
    "        if i%2==0:\n",
    "            #print(y_pred)\n",
    "            print (f\"Epoch {epoch+1}, Index: {i}, Loss: {loss}\")\n",
    "        i+=1"
   ]
  },
  {
   "cell_type": "code",
   "execution_count": 378,
   "id": "337fd055-2302-49c2-8891-1938db3fc8a7",
   "metadata": {},
   "outputs": [
    {
     "name": "stdout",
     "output_type": "stream",
     "text": [
      "Requirement already satisfied: scipy==1.10.1 in /home/alex/Documents/IOAI/Notebooks/venv/lib/python3.10/site-packages (1.10.1)\n",
      "Requirement already satisfied: numpy<1.27.0,>=1.19.5 in /home/alex/Documents/IOAI/Notebooks/venv/lib/python3.10/site-packages (from scipy==1.10.1) (1.26.4)\n",
      "Requirement already satisfied: nltk in /home/alex/Documents/IOAI/Notebooks/venv/lib/python3.10/site-packages (3.8.1)\n",
      "Requirement already satisfied: click in /home/alex/Documents/IOAI/Notebooks/venv/lib/python3.10/site-packages (from nltk) (8.1.7)\n",
      "Requirement already satisfied: joblib in /home/alex/Documents/IOAI/Notebooks/venv/lib/python3.10/site-packages (from nltk) (1.4.2)\n",
      "Requirement already satisfied: regex>=2021.8.3 in /home/alex/Documents/IOAI/Notebooks/venv/lib/python3.10/site-packages (from nltk) (2024.5.15)\n",
      "Requirement already satisfied: tqdm in /home/alex/Documents/IOAI/Notebooks/venv/lib/python3.10/site-packages (from nltk) (4.66.4)\n",
      "Requirement already satisfied: gensim in /home/alex/Documents/IOAI/Notebooks/venv/lib/python3.10/site-packages (4.3.2)\n",
      "Requirement already satisfied: numpy>=1.18.5 in /home/alex/Documents/IOAI/Notebooks/venv/lib/python3.10/site-packages (from gensim) (1.26.4)\n",
      "Requirement already satisfied: scipy>=1.7.0 in /home/alex/Documents/IOAI/Notebooks/venv/lib/python3.10/site-packages (from gensim) (1.10.1)\n",
      "Requirement already satisfied: smart-open>=1.8.1 in /home/alex/Documents/IOAI/Notebooks/venv/lib/python3.10/site-packages (from gensim) (7.0.4)\n",
      "Requirement already satisfied: wrapt in /home/alex/Documents/IOAI/Notebooks/venv/lib/python3.10/site-packages (from smart-open>=1.8.1->gensim) (1.16.0)\n"
     ]
    }
   ],
   "source": [
    "!pip install scipy==1.10.1\n",
    "!pip install --upgrade nltk\n",
    "!pip install --upgrade gensim"
   ]
  },
  {
   "cell_type": "code",
   "execution_count": null,
   "id": "3eddc4c6-0258-4789-8d6f-64e2c1aedbfa",
   "metadata": {},
   "outputs": [],
   "source": []
  }
 ],
 "metadata": {
  "kernelspec": {
   "display_name": "Python 3 (ipykernel)",
   "language": "python",
   "name": "python3"
  },
  "language_info": {
   "codemirror_mode": {
    "name": "ipython",
    "version": 3
   },
   "file_extension": ".py",
   "mimetype": "text/x-python",
   "name": "python",
   "nbconvert_exporter": "python",
   "pygments_lexer": "ipython3",
   "version": "3.10.14"
  }
 },
 "nbformat": 4,
 "nbformat_minor": 5
}
