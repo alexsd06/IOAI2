{
 "cells": [
  {
   "cell_type": "markdown",
   "id": "7fc57f9e-5d03-442a-82fd-ab7e1bc90447",
   "metadata": {},
   "source": [
    "### Cerinta: Se dau primi 5 termeni ai unui sir. Aflati urmatori 5 termeni si formula generala."
   ]
  },
  {
   "cell_type": "code",
   "execution_count": 105,
   "id": "d82937dd-e92a-43e1-a1ff-7e1578f1355c",
   "metadata": {},
   "outputs": [],
   "source": [
    "import torch\n",
    "import torch.nn as nn\n",
    "import matplotlib.pyplot as plt\n",
    "import random\n",
    "import numpy as np\n",
    "from sklearn import datasets #Why import sklearn and sklearn.dataset doesn't work, but this does?"
   ]
  },
  {
   "cell_type": "code",
   "execution_count": 77,
   "id": "424c3c6f-73a8-4dfd-b4e0-5a521fb2fa66",
   "metadata": {},
   "outputs": [],
   "source": [
    "def func(i):\n",
    "    return 3*i+2"
   ]
  },
  {
   "cell_type": "code",
   "execution_count": 78,
   "id": "3b170873-d485-43ee-a448-490f5232b810",
   "metadata": {},
   "outputs": [],
   "source": [
    "X=[]\n",
    "y=[]\n",
    "for i in range(1, 6):\n",
    "    X.append([i])\n",
    "    y.append([func(i)])"
   ]
  },
  {
   "cell_type": "code",
   "execution_count": 79,
   "id": "0e0f413b-fa0b-4f98-8e5d-ad6d24b64ef3",
   "metadata": {},
   "outputs": [
    {
     "data": {
      "text/plain": [
       "[[1], [2], [3], [4], [5]]"
      ]
     },
     "execution_count": 79,
     "metadata": {},
     "output_type": "execute_result"
    }
   ],
   "source": [
    "X"
   ]
  },
  {
   "cell_type": "code",
   "execution_count": 80,
   "id": "19bef473-72af-4d4c-b172-ac0ec17acde7",
   "metadata": {},
   "outputs": [
    {
     "data": {
      "text/plain": [
       "[[5], [8], [11], [14], [17]]"
      ]
     },
     "execution_count": 80,
     "metadata": {},
     "output_type": "execute_result"
    }
   ],
   "source": [
    "y"
   ]
  },
  {
   "cell_type": "code",
   "execution_count": 81,
   "id": "a12085fa-ee0a-48d5-a773-0f037ff9fe8b",
   "metadata": {},
   "outputs": [],
   "source": [
    "X=np.array(X)\n",
    "y=np.array(y)"
   ]
  },
  {
   "cell_type": "code",
   "execution_count": 82,
   "id": "4a587eee-9215-4a71-9e5f-46e939110292",
   "metadata": {},
   "outputs": [
    {
     "data": {
      "text/plain": [
       "<matplotlib.collections.PathCollection at 0x761724195120>"
      ]
     },
     "execution_count": 82,
     "metadata": {},
     "output_type": "execute_result"
    },
    {
     "data": {
      "image/png": "[encoded data removed]",
      "text/plain": [
       "<Figure size 640x480 with 1 Axes>"
      ]
     },
     "metadata": {},
     "output_type": "display_data"
    }
   ],
   "source": [
    "plt.scatter(X[:, 0], y[:, 0], color='b')"
   ]
  },
  {
   "cell_type": "code",
   "execution_count": 83,
   "id": "258963da-34dd-45b9-81ee-410c61f1fefc",
   "metadata": {},
   "outputs": [
    {
     "name": "stdout",
     "output_type": "stream",
     "text": [
      "Epoch: 0 Loss rate: 94.1271820068\n",
      "Epoch: 100 Loss rate: 0.1451480985\n",
      "Epoch: 200 Loss rate: 0.0737304837\n",
      "Epoch: 300 Loss rate: 0.0374526307\n",
      "Epoch: 400 Loss rate: 0.0190246608\n",
      "Epoch: 500 Loss rate: 0.0096639339\n",
      "Epoch: 600 Loss rate: 0.0049089799\n",
      "Epoch: 700 Loss rate: 0.0024935999\n",
      "Epoch: 800 Loss rate: 0.0012666478\n",
      "Epoch: 900 Loss rate: 0.0006434332\n"
     ]
    }
   ],
   "source": [
    "model=nn.Linear(1, 1)\n",
    "loss_fn=nn.MSELoss()\n",
    "optimizer=torch.optim.SGD(params=model.parameters(), lr=0.01)\n",
    "\n",
    "for epoch in range(1000):\n",
    "    optimizer.zero_grad()\n",
    "    y_pred=model(torch.Tensor(X))\n",
    "    loss=loss_fn(y_pred, torch.Tensor(y))\n",
    "    loss.backward()\n",
    "    optimizer.step()\n",
    "    if epoch%100==0:\n",
    "        print (f\"Epoch: {epoch} Loss rate: {loss:.10f}\")"
   ]
  },
  {
   "cell_type": "code",
   "execution_count": 84,
   "id": "1d8e5165-140e-4ac8-a798-8a883b59366d",
   "metadata": {},
   "outputs": [],
   "source": [
    "X_test=[]\n",
    "y_test=[]\n",
    "for i in range(1, 6):\n",
    "    X_test.append([i+5])\n",
    "    y_test.append([func(i+5)])"
   ]
  },
  {
   "cell_type": "code",
   "execution_count": 85,
   "id": "b12ccdad-2357-458f-b4f1-c145af45bb3b",
   "metadata": {},
   "outputs": [
    {
     "data": {
      "text/plain": [
       "[[6], [7], [8], [9], [10]]"
      ]
     },
     "execution_count": 85,
     "metadata": {},
     "output_type": "execute_result"
    }
   ],
   "source": [
    "X_test"
   ]
  },
  {
   "cell_type": "code",
   "execution_count": 86,
   "id": "d8f03e1b-713f-4826-9383-14753247e8a4",
   "metadata": {},
   "outputs": [
    {
     "data": {
      "text/plain": [
       "[[20], [23], [26], [29], [32]]"
      ]
     },
     "execution_count": 86,
     "metadata": {},
     "output_type": "execute_result"
    }
   ],
   "source": [
    "y_test"
   ]
  },
  {
   "cell_type": "code",
   "execution_count": 87,
   "id": "182b795f-18ee-48e3-b3c4-7b306c22a28d",
   "metadata": {},
   "outputs": [],
   "source": [
    "X_test=np.array(X_test)\n",
    "y_test=np.array(y_test)"
   ]
  },
  {
   "cell_type": "code",
   "execution_count": 93,
   "id": "0b47ba3e-fee7-4e2c-87ec-03c01db45704",
   "metadata": {},
   "outputs": [],
   "source": [
    "with torch.no_grad():\n",
    "    y_pred=model(torch.Tensor(X_test))\n",
    "    ypreds.append(y_pred)"
   ]
  },
  {
   "cell_type": "code",
   "execution_count": 94,
   "id": "da0237f9-2a97-4f72-9715-f0928da3cae7",
   "metadata": {},
   "outputs": [
    {
     "name": "stdout",
     "output_type": "stream",
     "text": [
      "[np.int64(10)] [np.int64(32)]\n"
     ]
    }
   ],
   "source": [
    "print (xs, ys)"
   ]
  },
  {
   "cell_type": "code",
   "execution_count": 97,
   "id": "c4f41986-87ab-4920-9192-e729f6861efc",
   "metadata": {},
   "outputs": [
    {
     "data": {
      "text/plain": [
       "<matplotlib.collections.PathCollection at 0x76171c705570>"
      ]
     },
     "execution_count": 97,
     "metadata": {},
     "output_type": "execute_result"
    },
    {
     "data": {
      "image/png": "[encoded data removed]",
      "text/plain": [
       "<Figure size 640x480 with 1 Axes>"
      ]
     },
     "metadata": {},
     "output_type": "display_data"
    }
   ],
   "source": [
    "plt.scatter(X_test, y_test, color='b')\n",
    "plt.scatter(X_test, y_pred, color='r')"
   ]
  },
  {
   "cell_type": "code",
   "execution_count": 98,
   "id": "5cae4469-2881-426b-8b15-a06fd743ef7c",
   "metadata": {},
   "outputs": [
    {
     "name": "stdout",
     "output_type": "stream",
     "text": [
      "Functia initiala este: y=3x+2!\n"
     ]
    }
   ],
   "source": [
    "weight, bias=model.weight.item(), model.bias.item()\n",
    "print (f\"Functia initiala este: y={round(weight)}x+{round(bias)}!\")"
   ]
  },
  {
   "cell_type": "code",
   "execution_count": 114,
   "id": "3b5728a7-b918-41f5-8f0a-5179a534e224",
   "metadata": {},
   "outputs": [
    {
     "data": {
      "text/plain": [
       "array([[-0.29474643],\n",
       "       [-0.25023715],\n",
       "       [-0.82365285],\n",
       "       [ 0.43909971],\n",
       "       [-1.4954857 ],\n",
       "       [-1.16557358],\n",
       "       [ 0.46803964],\n",
       "       [ 0.87282659],\n",
       "       [-0.76566459],\n",
       "       [-0.81511082]])"
      ]
     },
     "execution_count": 114,
     "metadata": {},
     "output_type": "execute_result"
    }
   ],
   "source": [
    "X, y=sklearn.datasets.make_regression(n_samples=100, n_features=1) #Batch training must always have n_samples and n_features\n",
    "X[:10]"
   ]
  },
  {
   "cell_type": "code",
   "execution_count": 115,
   "id": "ebdde3e6-8dff-490c-82d5-6c8e8d8a1b40",
   "metadata": {},
   "outputs": [
    {
     "data": {
      "text/plain": [
       "array([ -26.27343451,  -22.3059162 ,  -73.41968065,   39.14095704,\n",
       "       -133.30626277, -103.89819011,   41.72063651,   77.80298451,\n",
       "        -68.25065944,  -72.65825231])"
      ]
     },
     "execution_count": 115,
     "metadata": {},
     "output_type": "execute_result"
    }
   ],
   "source": [
    "y[:10]"
   ]
  },
  {
   "cell_type": "code",
   "execution_count": null,
   "id": "a833c69b-d124-4d44-89e5-4d10894897bc",
   "metadata": {},
   "outputs": [],
   "source": []
  }
 ],
 "metadata": {
  "kernelspec": {
   "display_name": "Python 3 (ipykernel)",
   "language": "python",
   "name": "python3"
  },
  "language_info": {
   "codemirror_mode": {
    "name": "ipython",
    "version": 3
   },
   "file_extension": ".py",
   "mimetype": "text/x-python",
   "name": "python",
   "nbconvert_exporter": "python",
   "pygments_lexer": "ipython3",
   "version": "3.10.14"
  }
 },
 "nbformat": 4,
 "nbformat_minor": 5
}
