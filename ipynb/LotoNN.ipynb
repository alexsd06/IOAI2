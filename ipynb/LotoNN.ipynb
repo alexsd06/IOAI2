{
 "cells": [
  {
   "cell_type": "code",
   "execution_count": 1,
   "id": "b7b3eef1-0579-4d46-802b-20313a9dc266",
   "metadata": {},
   "outputs": [
    {
     "name": "stdout",
     "output_type": "stream",
     "text": [
      "Requirement already satisfied: requests in /home/alex/Documents/IOAI/Notebooks/venv/lib/python3.10/site-packages (2.32.3)\n",
      "Requirement already satisfied: charset-normalizer<4,>=2 in /home/alex/Documents/IOAI/Notebooks/venv/lib/python3.10/site-packages (from requests) (3.3.2)\n",
      "Requirement already satisfied: idna<4,>=2.5 in /home/alex/Documents/IOAI/Notebooks/venv/lib/python3.10/site-packages (from requests) (3.7)\n",
      "Requirement already satisfied: urllib3<3,>=1.21.1 in /home/alex/Documents/IOAI/Notebooks/venv/lib/python3.10/site-packages (from requests) (2.2.2)\n",
      "Requirement already satisfied: certifi>=2017.4.17 in /home/alex/Documents/IOAI/Notebooks/venv/lib/python3.10/site-packages (from requests) (2024.6.2)\n",
      "Requirement already satisfied: beautifulsoup4 in /home/alex/Documents/IOAI/Notebooks/venv/lib/python3.10/site-packages (4.12.3)\n",
      "Requirement already satisfied: soupsieve>1.2 in /home/alex/Documents/IOAI/Notebooks/venv/lib/python3.10/site-packages (from beautifulsoup4) (2.5)\n"
     ]
    }
   ],
   "source": [
    "!pip install requests\n",
    "!pip install beautifulsoup4"
   ]
  },
  {
   "cell_type": "markdown",
   "id": "d0070430-70f3-46d3-9958-3542d7a3bdad",
   "metadata": {},
   "source": [
    "### Obtain Database"
   ]
  },
  {
   "cell_type": "code",
   "execution_count": 3,
   "id": "d0813daa-84c9-47d5-a00a-8688ee71178b",
   "metadata": {},
   "outputs": [],
   "source": [
    "from bs4 import BeautifulSoup\n",
    "import requests\n",
    "import os\n",
    "from datetime import datetime\n",
    "import numpy as np"
   ]
  },
  {
   "cell_type": "markdown",
   "id": "22abc132-7097-4b86-b560-a83b7e00a29f",
   "metadata": {},
   "source": [
    "### Normal data to UNIX Time"
   ]
  },
  {
   "cell_type": "code",
   "execution_count": 4,
   "id": "930234f3-05f0-43eb-86de-057d38d2c118",
   "metadata": {},
   "outputs": [],
   "source": [
    "def to_unix(date_string):\n",
    "    date_object = datetime.strptime(date_string, \"%Y-%m-%d\")\n",
    "    unix_time = int(date_object.timestamp())\n",
    "    return unix_time"
   ]
  },
  {
   "cell_type": "code",
   "execution_count": 76,
   "id": "9b3d79ff-83da-4e32-9269-b1896467800d",
   "metadata": {},
   "outputs": [],
   "source": [
    "database=[]\n",
    "# https://www.loto49.ro/arhiva-loto49.php\n",
    "def make_database():\n",
    "    global database\n",
    "    database.clear()\n",
    "    datasets=os.listdir(\"dataset/html/\")\n",
    "    datasets.sort()\n",
    "    for file in datasets:\n",
    "        file_path=os.path.join(\"dataset/html\", file)\n",
    "        f=open(file_path, 'r')\n",
    "        content=f.read()\n",
    "        f.close()\n",
    "        bs4=BeautifulSoup(content, features='html.parser')\n",
    "        tbody=bs4.find_all(\"tbody\")[0]\n",
    "        trs=tbody.findAll(\"tr\")\n",
    "        for i in range(1, len(trs)):\n",
    "            tr=trs[i]\n",
    "            tds=tr.findAll(\"td\")\n",
    "            data=tds[0].text.strip()\n",
    "            win=[]\n",
    "            for j in range(1, 7):\n",
    "                win.append(int(tds[j].text.strip()))\n",
    "            database.append({\n",
    "                \"data\": np.float32(((to_unix(data)-1000000000)/86400)), \n",
    "                \"win\": np.float32 (np.array(win))\n",
    "            })\n",
    "            #print(file, data, to_unix(data), win)"
   ]
  },
  {
   "cell_type": "code",
   "execution_count": 77,
   "id": "47174882-163d-4cbc-9839-8c07c6ca12f9",
   "metadata": {},
   "outputs": [
    {
     "data": {
      "text/plain": [
       "1128"
      ]
     },
     "execution_count": 77,
     "metadata": {},
     "output_type": "execute_result"
    }
   ],
   "source": [
    "make_database()\n",
    "len(database)"
   ]
  },
  {
   "cell_type": "markdown",
   "id": "0238b40a-c85c-43b3-9b2c-f910af4b385d",
   "metadata": {},
   "source": [
    "### Model and Neural Network"
   ]
  },
  {
   "cell_type": "code",
   "execution_count": 78,
   "id": "8c66af46-d822-4260-9c3f-6b1f12afd760",
   "metadata": {},
   "outputs": [],
   "source": [
    "import torch\n",
    "from torch.utils.data import Dataset, DataLoader\n",
    "import numpy as np\n",
    "import torch.nn as nn"
   ]
  },
  {
   "cell_type": "code",
   "execution_count": 79,
   "id": "469f08be-a11c-4550-85e8-ef7cd146a613",
   "metadata": {},
   "outputs": [],
   "source": [
    "class LotoDataset(Dataset):\n",
    "    def __init__(self, database, training=None):\n",
    "        self.database=database\n",
    "        self.database=np.random.RandomState(seed=69).permutation(self.database)\n",
    "        cut=int(0.9*len(self.database))\n",
    "        if training==True:\n",
    "            self.database=self.database[:cut]\n",
    "        elif training==False:\n",
    "            self.database=self.database[cut:]\n",
    "    def __len__(self):\n",
    "        return len(self.database)\n",
    "    def __getitem__(self, idx):\n",
    "        win=self.database[idx][\"win\"]\n",
    "        real_win=[]\n",
    "        for nr in win:\n",
    "            arr=np.zeros(49)\n",
    "            arr[int(nr)-1]=1\n",
    "            real_win.append(arr)\n",
    "        return self.database[idx][\"data\"], np.float32(np.array(real_win).flatten())"
   ]
  },
  {
   "cell_type": "code",
   "execution_count": 80,
   "id": "d8b8e7cb-7bb0-47c5-a080-51cb2325f7eb",
   "metadata": {},
   "outputs": [],
   "source": [
    "dataset_training=LotoDataset(database=database, training=True)\n",
    "dataset_testing=LotoDataset(database=database, training=False)\n",
    "loader_training=DataLoader(dataset_training, batch_size=1)\n",
    "loader_testing=DataLoader(dataset_testing, batch_size=1)"
   ]
  },
  {
   "cell_type": "code",
   "execution_count": 101,
   "id": "cb265197-58dc-4e94-9526-35c582d36a93",
   "metadata": {},
   "outputs": [
    {
     "data": {
      "text/plain": [
       "1015"
      ]
     },
     "execution_count": 101,
     "metadata": {},
     "output_type": "execute_result"
    }
   ],
   "source": [
    "len(dataset_training)"
   ]
  },
  {
   "cell_type": "code",
   "execution_count": 102,
   "id": "ba064b4b-305a-495f-b962-b025c44af342",
   "metadata": {},
   "outputs": [
    {
     "data": {
      "text/plain": [
       "113"
      ]
     },
     "execution_count": 102,
     "metadata": {},
     "output_type": "execute_result"
    }
   ],
   "source": [
    "len(dataset_testing)"
   ]
  },
  {
   "cell_type": "code",
   "execution_count": 103,
   "id": "5b6072b3-b25d-4f93-b0ad-3b36d1ec6a3e",
   "metadata": {},
   "outputs": [],
   "source": [
    "class LotoModel(nn.Module):\n",
    "    def __init__(self, n_hidden):\n",
    "        super().__init__()\n",
    "        self.l1=nn.Linear(1, n_hidden)\n",
    "        self.r1=nn.ReLU()\n",
    "        self.l2=nn.Linear(n_hidden, n_hidden)\n",
    "        self.r2=nn.ReLU()\n",
    "        self.l3=nn.Linear(n_hidden, 294)\n",
    "    def forward(self, x):\n",
    "        x=self.r1(self.l1(x))\n",
    "        x=self.r2(self.l2(x))\n",
    "        x=self.l3(x)\n",
    "        return x"
   ]
  },
  {
   "cell_type": "code",
   "execution_count": 104,
   "id": "cd3d0003-219b-4d4b-ab10-2c0bcf9089d9",
   "metadata": {},
   "outputs": [],
   "source": [
    "model=LotoModel(1000)"
   ]
  },
  {
   "cell_type": "code",
   "execution_count": 105,
   "id": "3669d7d1-3293-4103-9099-6736ca6ae24d",
   "metadata": {},
   "outputs": [],
   "source": [
    "n_epochs=1000\n",
    "loss_fn=nn.CrossEntropyLoss()\n",
    "optimizer=torch.optim.SGD(params=model.parameters(), lr=0.01)"
   ]
  },
  {
   "cell_type": "code",
   "execution_count": null,
   "id": "a22f00c5-1efd-4ad1-b90f-2ad8743be1e6",
   "metadata": {},
   "outputs": [
    {
     "name": "stdout",
     "output_type": "stream",
     "text": [
      "Epoch: 1 Loss: 5863.92578125\n",
      "Epoch: 2 Loss: 33.72492599487305\n",
      "Epoch: 3 Loss: 33.596527099609375\n",
      "Epoch: 4 Loss: 33.56105041503906\n",
      "Epoch: 5 Loss: 33.56764221191406\n",
      "Epoch: 6 Loss: 33.588104248046875\n",
      "Epoch: 7 Loss: 33.60704803466797\n",
      "Epoch: 8 Loss: 33.619911193847656\n",
      "Epoch: 9 Loss: 33.627830505371094\n",
      "Epoch: 10 Loss: 33.633541107177734\n"
     ]
    }
   ],
   "source": [
    "for epoch in range(n_epochs):\n",
    "    index=0\n",
    "    for data, win in loader_training:\n",
    "        y_pred=model(data)\n",
    "        loss=loss_fn(y_pred, win[0])\n",
    "        loss.backward()\n",
    "        optimizer.step()\n",
    "        optimizer.zero_grad()\n",
    "        if index%2000==0:\n",
    "            print (f'Epoch: {epoch+1} Loss: {loss}')\n",
    "        index+=1"
   ]
  },
  {
   "cell_type": "code",
   "execution_count": null,
   "id": "9d810bd0-94f4-4dbb-91ed-c9d6745937e1",
   "metadata": {},
   "outputs": [],
   "source": [
    "def array_to_nrs(arr):\n",
    "    arr=arr.numpy().reshape(6, 49)\n",
    "    data=[]\n",
    "    for ln in arr:\n",
    "        ln=np.array(ln)\n",
    "        nr=np.argmax(ln)\n",
    "        data.append(int(nr)+1)\n",
    "    return data"
   ]
  },
  {
   "cell_type": "code",
   "execution_count": null,
   "id": "fdddec09-9c0d-474a-8d74-d4541b8d7422",
   "metadata": {},
   "outputs": [],
   "source": [
    "with torch.no_grad():\n",
    "    index=0\n",
    "    for data, win in loader_testing:\n",
    "        print (data)\n",
    "        y_pred=model(data)\n",
    "        pred=array_to_nrs(y_pred)\n",
    "        real=array_to_nrs(win)\n",
    "        print (pred, real)\n",
    "        index+=1\n",
    "        if (index==10):\n",
    "            break"
   ]
  },
  {
   "cell_type": "code",
   "execution_count": null,
   "id": "8cdbb46b-da3b-49b6-b58a-b5f12d03be75",
   "metadata": {},
   "outputs": [],
   "source": []
  }
 ],
 "metadata": {
  "kernelspec": {
   "display_name": "Python 3 (ipykernel)",
   "language": "python",
   "name": "python3"
  },
  "language_info": {
   "codemirror_mode": {
    "name": "ipython",
    "version": 3
   },
   "file_extension": ".py",
   "mimetype": "text/x-python",
   "name": "python",
   "nbconvert_exporter": "python",
   "pygments_lexer": "ipython3",
   "version": "3.10.14"
  }
 },
 "nbformat": 4,
 "nbformat_minor": 5
}
