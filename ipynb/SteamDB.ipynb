{
 "cells": [
  {
   "cell_type": "code",
   "execution_count": 725,
   "id": "9c941e94-9336-4401-9e91-eda4aa3de119",
   "metadata": {},
   "outputs": [
    {
     "name": "stdout",
     "output_type": "stream",
     "text": [
      "Requirement already satisfied: tqdm in /home/alex/Documents/IOAI/Notebooks/venv/lib/python3.10/site-packages (4.66.4)\n",
      "Requirement already satisfied: torch in /home/alex/Documents/IOAI/Notebooks/venv/lib/python3.10/site-packages (2.3.1)\n",
      "Requirement already satisfied: filelock in /home/alex/Documents/IOAI/Notebooks/venv/lib/python3.10/site-packages (from torch) (3.15.3)\n",
      "Requirement already satisfied: typing-extensions>=4.8.0 in /home/alex/Documents/IOAI/Notebooks/venv/lib/python3.10/site-packages (from torch) (4.12.2)\n",
      "Requirement already satisfied: sympy in /home/alex/Documents/IOAI/Notebooks/venv/lib/python3.10/site-packages (from torch) (1.12.1)\n",
      "Requirement already satisfied: networkx in /home/alex/Documents/IOAI/Notebooks/venv/lib/python3.10/site-packages (from torch) (3.3)\n",
      "Requirement already satisfied: jinja2 in /home/alex/Documents/IOAI/Notebooks/venv/lib/python3.10/site-packages (from torch) (3.1.4)\n",
      "Requirement already satisfied: fsspec in /home/alex/Documents/IOAI/Notebooks/venv/lib/python3.10/site-packages (from torch) (2024.6.0)\n",
      "Requirement already satisfied: nvidia-cuda-nvrtc-cu12==12.1.105 in /home/alex/Documents/IOAI/Notebooks/venv/lib/python3.10/site-packages (from torch) (12.1.105)\n",
      "Requirement already satisfied: nvidia-cuda-runtime-cu12==12.1.105 in /home/alex/Documents/IOAI/Notebooks/venv/lib/python3.10/site-packages (from torch) (12.1.105)\n",
      "Requirement already satisfied: nvidia-cuda-cupti-cu12==12.1.105 in /home/alex/Documents/IOAI/Notebooks/venv/lib/python3.10/site-packages (from torch) (12.1.105)\n",
      "Requirement already satisfied: nvidia-cudnn-cu12==8.9.2.26 in /home/alex/Documents/IOAI/Notebooks/venv/lib/python3.10/site-packages (from torch) (8.9.2.26)\n",
      "Requirement already satisfied: nvidia-cublas-cu12==12.1.3.1 in /home/alex/Documents/IOAI/Notebooks/venv/lib/python3.10/site-packages (from torch) (12.1.3.1)\n",
      "Requirement already satisfied: nvidia-cufft-cu12==11.0.2.54 in /home/alex/Documents/IOAI/Notebooks/venv/lib/python3.10/site-packages (from torch) (11.0.2.54)\n",
      "Requirement already satisfied: nvidia-curand-cu12==10.3.2.106 in /home/alex/Documents/IOAI/Notebooks/venv/lib/python3.10/site-packages (from torch) (10.3.2.106)\n",
      "Requirement already satisfied: nvidia-cusolver-cu12==11.4.5.107 in /home/alex/Documents/IOAI/Notebooks/venv/lib/python3.10/site-packages (from torch) (11.4.5.107)\n",
      "Requirement already satisfied: nvidia-cusparse-cu12==12.1.0.106 in /home/alex/Documents/IOAI/Notebooks/venv/lib/python3.10/site-packages (from torch) (12.1.0.106)\n",
      "Requirement already satisfied: nvidia-nccl-cu12==2.20.5 in /home/alex/Documents/IOAI/Notebooks/venv/lib/python3.10/site-packages (from torch) (2.20.5)\n",
      "Requirement already satisfied: nvidia-nvtx-cu12==12.1.105 in /home/alex/Documents/IOAI/Notebooks/venv/lib/python3.10/site-packages (from torch) (12.1.105)\n",
      "Requirement already satisfied: triton==2.3.1 in /home/alex/Documents/IOAI/Notebooks/venv/lib/python3.10/site-packages (from torch) (2.3.1)\n",
      "Requirement already satisfied: nvidia-nvjitlink-cu12 in /home/alex/Documents/IOAI/Notebooks/venv/lib/python3.10/site-packages (from nvidia-cusolver-cu12==11.4.5.107->torch) (12.5.40)\n",
      "Requirement already satisfied: MarkupSafe>=2.0 in /home/alex/Documents/IOAI/Notebooks/venv/lib/python3.10/site-packages (from jinja2->torch) (2.1.5)\n",
      "Requirement already satisfied: mpmath<1.4.0,>=1.1.0 in /home/alex/Documents/IOAI/Notebooks/venv/lib/python3.10/site-packages (from sympy->torch) (1.3.0)\n",
      "Requirement already satisfied: ipywidgets in /home/alex/Documents/IOAI/Notebooks/venv/lib/python3.10/site-packages (8.1.3)\n",
      "Requirement already satisfied: widgetsnbextension in /home/alex/Documents/IOAI/Notebooks/venv/lib/python3.10/site-packages (4.0.11)\n",
      "Requirement already satisfied: pandas-profiling in /home/alex/Documents/IOAI/Notebooks/venv/lib/python3.10/site-packages (3.6.6)\n",
      "Requirement already satisfied: comm>=0.1.3 in /home/alex/Documents/IOAI/Notebooks/venv/lib/python3.10/site-packages (from ipywidgets) (0.2.2)\n",
      "Requirement already satisfied: ipython>=6.1.0 in /home/alex/Documents/IOAI/Notebooks/venv/lib/python3.10/site-packages (from ipywidgets) (8.25.0)\n",
      "Requirement already satisfied: traitlets>=4.3.1 in /home/alex/Documents/IOAI/Notebooks/venv/lib/python3.10/site-packages (from ipywidgets) (5.14.3)\n",
      "Requirement already satisfied: jupyterlab-widgets~=3.0.11 in /home/alex/Documents/IOAI/Notebooks/venv/lib/python3.10/site-packages (from ipywidgets) (3.0.11)\n",
      "Requirement already satisfied: ydata-profiling in /home/alex/Documents/IOAI/Notebooks/venv/lib/python3.10/site-packages (from pandas-profiling) (4.8.3)\n",
      "Requirement already satisfied: decorator in /home/alex/Documents/IOAI/Notebooks/venv/lib/python3.10/site-packages (from ipython>=6.1.0->ipywidgets) (5.1.1)\n",
      "Requirement already satisfied: jedi>=0.16 in /home/alex/Documents/IOAI/Notebooks/venv/lib/python3.10/site-packages (from ipython>=6.1.0->ipywidgets) (0.19.1)\n",
      "Requirement already satisfied: matplotlib-inline in /home/alex/Documents/IOAI/Notebooks/venv/lib/python3.10/site-packages (from ipython>=6.1.0->ipywidgets) (0.1.7)\n",
      "Requirement already satisfied: prompt-toolkit<3.1.0,>=3.0.41 in /home/alex/Documents/IOAI/Notebooks/venv/lib/python3.10/site-packages (from ipython>=6.1.0->ipywidgets) (3.0.47)\n",
      "Requirement already satisfied: pygments>=2.4.0 in /home/alex/Documents/IOAI/Notebooks/venv/lib/python3.10/site-packages (from ipython>=6.1.0->ipywidgets) (2.18.0)\n",
      "Requirement already satisfied: stack-data in /home/alex/Documents/IOAI/Notebooks/venv/lib/python3.10/site-packages (from ipython>=6.1.0->ipywidgets) (0.6.3)\n",
      "Requirement already satisfied: exceptiongroup in /home/alex/Documents/IOAI/Notebooks/venv/lib/python3.10/site-packages (from ipython>=6.1.0->ipywidgets) (1.2.1)\n",
      "Requirement already satisfied: typing-extensions>=4.6 in /home/alex/Documents/IOAI/Notebooks/venv/lib/python3.10/site-packages (from ipython>=6.1.0->ipywidgets) (4.12.2)\n",
      "Requirement already satisfied: pexpect>4.3 in /home/alex/Documents/IOAI/Notebooks/venv/lib/python3.10/site-packages (from ipython>=6.1.0->ipywidgets) (4.9.0)\n",
      "Requirement already satisfied: scipy<1.14,>=1.4.1 in /home/alex/Documents/IOAI/Notebooks/venv/lib/python3.10/site-packages (from ydata-profiling->pandas-profiling) (1.13.1)\n",
      "Requirement already satisfied: pandas!=1.4.0,<3,>1.1 in /home/alex/Documents/IOAI/Notebooks/venv/lib/python3.10/site-packages (from ydata-profiling->pandas-profiling) (2.2.2)\n",
      "Requirement already satisfied: matplotlib<3.9,>=3.2 in /home/alex/Documents/IOAI/Notebooks/venv/lib/python3.10/site-packages (from ydata-profiling->pandas-profiling) (3.8.4)\n",
      "Requirement already satisfied: pydantic>=2 in /home/alex/Documents/IOAI/Notebooks/venv/lib/python3.10/site-packages (from ydata-profiling->pandas-profiling) (2.7.4)\n",
      "Requirement already satisfied: PyYAML<6.1,>=5.0.0 in /home/alex/Documents/IOAI/Notebooks/venv/lib/python3.10/site-packages (from ydata-profiling->pandas-profiling) (6.0.1)\n",
      "Requirement already satisfied: jinja2<3.2,>=2.11.1 in /home/alex/Documents/IOAI/Notebooks/venv/lib/python3.10/site-packages (from ydata-profiling->pandas-profiling) (3.1.4)\n",
      "Requirement already satisfied: visions<0.7.7,>=0.7.5 in /home/alex/Documents/IOAI/Notebooks/venv/lib/python3.10/site-packages (from visions[type_image_path]<0.7.7,>=0.7.5->ydata-profiling->pandas-profiling) (0.7.6)\n",
      "Requirement already satisfied: numpy<2,>=1.16.0 in /home/alex/Documents/IOAI/Notebooks/venv/lib/python3.10/site-packages (from ydata-profiling->pandas-profiling) (1.26.4)\n",
      "Requirement already satisfied: htmlmin==0.1.12 in /home/alex/Documents/IOAI/Notebooks/venv/lib/python3.10/site-packages (from ydata-profiling->pandas-profiling) (0.1.12)\n",
      "Requirement already satisfied: phik<0.13,>=0.11.1 in /home/alex/Documents/IOAI/Notebooks/venv/lib/python3.10/site-packages (from ydata-profiling->pandas-profiling) (0.12.4)\n",
      "Requirement already satisfied: requests<3,>=2.24.0 in /home/alex/Documents/IOAI/Notebooks/venv/lib/python3.10/site-packages (from ydata-profiling->pandas-profiling) (2.32.3)\n",
      "Requirement already satisfied: tqdm<5,>=4.48.2 in /home/alex/Documents/IOAI/Notebooks/venv/lib/python3.10/site-packages (from ydata-profiling->pandas-profiling) (4.66.4)\n",
      "Requirement already satisfied: seaborn<0.14,>=0.10.1 in /home/alex/Documents/IOAI/Notebooks/venv/lib/python3.10/site-packages (from ydata-profiling->pandas-profiling) (0.13.2)\n",
      "Requirement already satisfied: multimethod<2,>=1.4 in /home/alex/Documents/IOAI/Notebooks/venv/lib/python3.10/site-packages (from ydata-profiling->pandas-profiling) (1.11.2)\n",
      "Requirement already satisfied: statsmodels<1,>=0.13.2 in /home/alex/Documents/IOAI/Notebooks/venv/lib/python3.10/site-packages (from ydata-profiling->pandas-profiling) (0.14.2)\n",
      "Requirement already satisfied: typeguard<5,>=3 in /home/alex/Documents/IOAI/Notebooks/venv/lib/python3.10/site-packages (from ydata-profiling->pandas-profiling) (4.3.0)\n",
      "Requirement already satisfied: imagehash==4.3.1 in /home/alex/Documents/IOAI/Notebooks/venv/lib/python3.10/site-packages (from ydata-profiling->pandas-profiling) (4.3.1)\n",
      "Requirement already satisfied: wordcloud>=1.9.1 in /home/alex/Documents/IOAI/Notebooks/venv/lib/python3.10/site-packages (from ydata-profiling->pandas-profiling) (1.9.3)\n",
      "Requirement already satisfied: dacite>=1.8 in /home/alex/Documents/IOAI/Notebooks/venv/lib/python3.10/site-packages (from ydata-profiling->pandas-profiling) (1.8.1)\n",
      "Requirement already satisfied: numba<1,>=0.56.0 in /home/alex/Documents/IOAI/Notebooks/venv/lib/python3.10/site-packages (from ydata-profiling->pandas-profiling) (0.60.0)\n",
      "Requirement already satisfied: PyWavelets in /home/alex/Documents/IOAI/Notebooks/venv/lib/python3.10/site-packages (from imagehash==4.3.1->ydata-profiling->pandas-profiling) (1.6.0)\n",
      "Requirement already satisfied: pillow in /home/alex/Documents/IOAI/Notebooks/venv/lib/python3.10/site-packages (from imagehash==4.3.1->ydata-profiling->pandas-profiling) (10.3.0)\n",
      "Requirement already satisfied: parso<0.9.0,>=0.8.3 in /home/alex/Documents/IOAI/Notebooks/venv/lib/python3.10/site-packages (from jedi>=0.16->ipython>=6.1.0->ipywidgets) (0.8.4)\n",
      "Requirement already satisfied: MarkupSafe>=2.0 in /home/alex/Documents/IOAI/Notebooks/venv/lib/python3.10/site-packages (from jinja2<3.2,>=2.11.1->ydata-profiling->pandas-profiling) (2.1.5)\n",
      "Requirement already satisfied: contourpy>=1.0.1 in /home/alex/Documents/IOAI/Notebooks/venv/lib/python3.10/site-packages (from matplotlib<3.9,>=3.2->ydata-profiling->pandas-profiling) (1.2.1)\n",
      "Requirement already satisfied: cycler>=0.10 in /home/alex/Documents/IOAI/Notebooks/venv/lib/python3.10/site-packages (from matplotlib<3.9,>=3.2->ydata-profiling->pandas-profiling) (0.12.1)\n",
      "Requirement already satisfied: fonttools>=4.22.0 in /home/alex/Documents/IOAI/Notebooks/venv/lib/python3.10/site-packages (from matplotlib<3.9,>=3.2->ydata-profiling->pandas-profiling) (4.53.0)\n",
      "Requirement already satisfied: kiwisolver>=1.3.1 in /home/alex/Documents/IOAI/Notebooks/venv/lib/python3.10/site-packages (from matplotlib<3.9,>=3.2->ydata-profiling->pandas-profiling) (1.4.5)\n",
      "Requirement already satisfied: packaging>=20.0 in /home/alex/Documents/IOAI/Notebooks/venv/lib/python3.10/site-packages (from matplotlib<3.9,>=3.2->ydata-profiling->pandas-profiling) (24.1)\n",
      "Requirement already satisfied: pyparsing>=2.3.1 in /home/alex/Documents/IOAI/Notebooks/venv/lib/python3.10/site-packages (from matplotlib<3.9,>=3.2->ydata-profiling->pandas-profiling) (3.1.2)\n",
      "Requirement already satisfied: python-dateutil>=2.7 in /home/alex/Documents/IOAI/Notebooks/venv/lib/python3.10/site-packages (from matplotlib<3.9,>=3.2->ydata-profiling->pandas-profiling) (2.9.0.post0)\n",
      "Requirement already satisfied: llvmlite<0.44,>=0.43.0dev0 in /home/alex/Documents/IOAI/Notebooks/venv/lib/python3.10/site-packages (from numba<1,>=0.56.0->ydata-profiling->pandas-profiling) (0.43.0)\n",
      "Requirement already satisfied: pytz>=2020.1 in /home/alex/Documents/IOAI/Notebooks/venv/lib/python3.10/site-packages (from pandas!=1.4.0,<3,>1.1->ydata-profiling->pandas-profiling) (2024.1)\n",
      "Requirement already satisfied: tzdata>=2022.7 in /home/alex/Documents/IOAI/Notebooks/venv/lib/python3.10/site-packages (from pandas!=1.4.0,<3,>1.1->ydata-profiling->pandas-profiling) (2024.1)\n",
      "Requirement already satisfied: ptyprocess>=0.5 in /home/alex/Documents/IOAI/Notebooks/venv/lib/python3.10/site-packages (from pexpect>4.3->ipython>=6.1.0->ipywidgets) (0.7.0)\n",
      "Requirement already satisfied: joblib>=0.14.1 in /home/alex/Documents/IOAI/Notebooks/venv/lib/python3.10/site-packages (from phik<0.13,>=0.11.1->ydata-profiling->pandas-profiling) (1.4.2)\n",
      "Requirement already satisfied: wcwidth in /home/alex/Documents/IOAI/Notebooks/venv/lib/python3.10/site-packages (from prompt-toolkit<3.1.0,>=3.0.41->ipython>=6.1.0->ipywidgets) (0.2.13)\n",
      "Requirement already satisfied: annotated-types>=0.4.0 in /home/alex/Documents/IOAI/Notebooks/venv/lib/python3.10/site-packages (from pydantic>=2->ydata-profiling->pandas-profiling) (0.7.0)\n",
      "Requirement already satisfied: pydantic-core==2.18.4 in /home/alex/Documents/IOAI/Notebooks/venv/lib/python3.10/site-packages (from pydantic>=2->ydata-profiling->pandas-profiling) (2.18.4)\n",
      "Requirement already satisfied: charset-normalizer<4,>=2 in /home/alex/Documents/IOAI/Notebooks/venv/lib/python3.10/site-packages (from requests<3,>=2.24.0->ydata-profiling->pandas-profiling) (3.3.2)\n",
      "Requirement already satisfied: idna<4,>=2.5 in /home/alex/Documents/IOAI/Notebooks/venv/lib/python3.10/site-packages (from requests<3,>=2.24.0->ydata-profiling->pandas-profiling) (3.7)\n",
      "Requirement already satisfied: urllib3<3,>=1.21.1 in /home/alex/Documents/IOAI/Notebooks/venv/lib/python3.10/site-packages (from requests<3,>=2.24.0->ydata-profiling->pandas-profiling) (2.2.2)\n",
      "Requirement already satisfied: certifi>=2017.4.17 in /home/alex/Documents/IOAI/Notebooks/venv/lib/python3.10/site-packages (from requests<3,>=2.24.0->ydata-profiling->pandas-profiling) (2024.6.2)\n",
      "Requirement already satisfied: patsy>=0.5.6 in /home/alex/Documents/IOAI/Notebooks/venv/lib/python3.10/site-packages (from statsmodels<1,>=0.13.2->ydata-profiling->pandas-profiling) (0.5.6)\n",
      "Requirement already satisfied: attrs>=19.3.0 in /home/alex/Documents/IOAI/Notebooks/venv/lib/python3.10/site-packages (from visions<0.7.7,>=0.7.5->visions[type_image_path]<0.7.7,>=0.7.5->ydata-profiling->pandas-profiling) (23.2.0)\n",
      "Requirement already satisfied: networkx>=2.4 in /home/alex/Documents/IOAI/Notebooks/venv/lib/python3.10/site-packages (from visions<0.7.7,>=0.7.5->visions[type_image_path]<0.7.7,>=0.7.5->ydata-profiling->pandas-profiling) (3.3)\n",
      "\u001b[33mWARNING: visions 0.7.6 does not provide the extra 'type-image-path'\u001b[0m\u001b[33m\n",
      "\u001b[0mRequirement already satisfied: executing>=1.2.0 in /home/alex/Documents/IOAI/Notebooks/venv/lib/python3.10/site-packages (from stack-data->ipython>=6.1.0->ipywidgets) (2.0.1)\n",
      "Requirement already satisfied: asttokens>=2.1.0 in /home/alex/Documents/IOAI/Notebooks/venv/lib/python3.10/site-packages (from stack-data->ipython>=6.1.0->ipywidgets) (2.4.1)\n",
      "Requirement already satisfied: pure-eval in /home/alex/Documents/IOAI/Notebooks/venv/lib/python3.10/site-packages (from stack-data->ipython>=6.1.0->ipywidgets) (0.2.2)\n",
      "Requirement already satisfied: six>=1.12.0 in /home/alex/Documents/IOAI/Notebooks/venv/lib/python3.10/site-packages (from asttokens>=2.1.0->stack-data->ipython>=6.1.0->ipywidgets) (1.16.0)\n"
     ]
    }
   ],
   "source": [
    "!pip install tqdm\n",
    "!pip install torch\n",
    "!pip install ipywidgets widgetsnbextension pandas-profiling"
   ]
  },
  {
   "cell_type": "code",
   "execution_count": 726,
   "id": "b30ac095-7e19-4362-a290-a45facef8b43",
   "metadata": {},
   "outputs": [],
   "source": [
    "import pandas as pd\n",
    "from datetime import datetime\n",
    "import numpy as np\n",
    "import json\n",
    "#from tqdm.auto import tqdm\n",
    "from tqdm import tqdm\n",
    "import matplotlib.pyplot as plt\n",
    "from scipy import stats\n",
    "import random\n",
    "tqdm.pandas()\n",
    "# Andrew NG Machine Learning Course"
   ]
  },
  {
   "cell_type": "code",
   "execution_count": 727,
   "id": "c9c2279e-fde3-49c6-94d4-5a477bf83b58",
   "metadata": {},
   "outputs": [],
   "source": [
    "# CCU stands for concurrent users.\n",
    "back=pd.read_csv(\"games.csv\")"
   ]
  },
  {
   "cell_type": "code",
   "execution_count": 918,
   "id": "2be9ea01-1a6a-4b3a-a05d-0a73c3c0d106",
   "metadata": {},
   "outputs": [],
   "source": [
    "df=back\n",
    "df=df.drop(axis=1, labels=[\"Supported languages\", \"Score rank\", \"Metacritic url\", \"Linux\", \"Mac\", \"Required age\", \"Screenshots\", \"Movies\", \"AppID\", \"Name\", \"About the game\", \"Notes\", 'Full audio languages', 'Reviews', 'Header image', 'Website', 'Support url', 'Support email'])"
   ]
  },
  {
   "cell_type": "code",
   "execution_count": 919,
   "id": "37ee8652-2141-4c62-86fe-ee9cbcc0f7db",
   "metadata": {},
   "outputs": [],
   "source": [
    "months=['NaN', 'Jan', 'Feb', 'Mar', 'Apr', 'May', 'Jun', 'Jul', 'Aug', 'Sep', 'Oct', 'Nov', 'Dec']\n",
    "for i in range(1, 13):\n",
    "    df['Release date']=df['Release date'].str.replace(months[i], str(i))\n",
    "    df['Release date']=df['Release date'].str.replace(',', ' ')\n",
    "    df['Release date']=df['Release date'].str.replace('\\n', '')\n",
    "    df['Release date']=' '+df['Release date']\n",
    "    for j in range(0, 10):\n",
    "        new=' 0'+str(j)+' '\n",
    "        df['Release date']=df['Release date'].str.replace(f' {str(j)} ', new)\n",
    "    df['Release date']=df['Release date'].str.replace('  ', ' ')\n",
    "    df['Release date']=df['Release date'].str.strip()"
   ]
  },
  {
   "cell_type": "code",
   "execution_count": 920,
   "id": "941f547f-fa9e-4037-9416-233c48c252dd",
   "metadata": {},
   "outputs": [],
   "source": [
    "to_drop=[]\n",
    "for index, row in df.iterrows():\n",
    "    if len(row['Release date'])!=10:\n",
    "        to_drop.append(index)\n",
    "i=len(to_drop)-1\n",
    "df.drop(df.index[to_drop], inplace=True)"
   ]
  },
  {
   "cell_type": "code",
   "execution_count": 921,
   "id": "0c14cddd-665e-4cd1-ba65-d5bca6d0e620",
   "metadata": {},
   "outputs": [],
   "source": [
    "df['Release date']=pd.to_datetime(df['Release date'], format='%m %d %Y')\n",
    "df['Release date']=pd.to_datetime(df['Release date'], unit='D', origin='unix')"
   ]
  },
  {
   "cell_type": "code",
   "execution_count": 922,
   "id": "f1bbe152-46a0-4555-9da2-c3ec27ec9113",
   "metadata": {},
   "outputs": [],
   "source": [
    "df['Release date']=df['Release date']-datetime(1970,1,1)\n",
    "df['Release date']=df['Release date'].dt.days"
   ]
  },
  {
   "cell_type": "code",
   "execution_count": 923,
   "id": "81289997-5ab0-409a-a539-9cf2932f0fe6",
   "metadata": {},
   "outputs": [],
   "source": [
    "df['Genres']=df['Genres'].str.split(',')\n",
    "df['Categories']=df['Categories'].str.split(',')\n",
    "df['Tags']=df['Tags'].str.split(',')\n",
    "df=df.drop('Genres', axis=1).drop('Categories', axis=1).drop('Tags', axis=1)"
   ]
  },
  {
   "cell_type": "code",
   "execution_count": 924,
   "id": "12cbc701-2d87-4d7f-8734-5d55a2f72883",
   "metadata": {},
   "outputs": [],
   "source": [
    "df=df.dropna()"
   ]
  },
  {
   "cell_type": "code",
   "execution_count": 925,
   "id": "e69b55dc-e1f2-4800-9f2c-d797b0b4ec89",
   "metadata": {},
   "outputs": [],
   "source": [
    "df['Estimated owners']=df['Estimated owners'].str.split('-')\n",
    "df['Estimated owners']=df['Estimated owners'].str[1].astype(int)"
   ]
  },
  {
   "cell_type": "code",
   "execution_count": 926,
   "id": "0dc6b188-0f2a-4a01-8441-73f3d5300314",
   "metadata": {},
   "outputs": [],
   "source": [
    "prices=df['Price']\n",
    "df=df.drop('Price', axis=1)"
   ]
  },
  {
   "cell_type": "code",
   "execution_count": 927,
   "id": "dbb30191-7a48-43b0-9658-b06fdf75a34a",
   "metadata": {},
   "outputs": [],
   "source": [
    "prices=prices.to_numpy()"
   ]
  },
  {
   "cell_type": "code",
   "execution_count": 928,
   "id": "ec8d44b2-f119-4606-afa4-f157c3fff887",
   "metadata": {},
   "outputs": [],
   "source": [
    "df['Pub ID'] = pd.factorize(df['Publishers'])[0]"
   ]
  },
  {
   "cell_type": "code",
   "execution_count": 929,
   "id": "32a14e6a-0169-4dec-96c1-4dbfde1dadcb",
   "metadata": {},
   "outputs": [],
   "source": [
    "df['Dev ID'] = pd.factorize(df['Developers'])[0]"
   ]
  },
  {
   "cell_type": "code",
   "execution_count": 930,
   "id": "54da672b-947b-4db5-aa61-ca8769f4c5da",
   "metadata": {},
   "outputs": [],
   "source": [
    "df.drop('Publishers', axis=1, inplace=True)\n",
    "df.drop('Developers', axis=1, inplace=True)"
   ]
  },
  {
   "cell_type": "code",
   "execution_count": 931,
   "id": "f0f5c03c-3dab-483f-b12e-a44871190f24",
   "metadata": {},
   "outputs": [
    {
     "data": {
      "text/plain": [
       "999.98"
      ]
     },
     "execution_count": 931,
     "metadata": {},
     "output_type": "execute_result"
    }
   ],
   "source": [
    "prices.max()"
   ]
  },
  {
   "cell_type": "code",
   "execution_count": 932,
   "id": "d7444ad7-47bb-4576-aea5-b329fa82e02d",
   "metadata": {},
   "outputs": [],
   "source": [
    "df['Peak CCU']/=872138\n",
    "df['DLC count']/=2366\n",
    "df['Metacritic score']/=97\n",
    "df['User score']/=100\n",
    "df['Positive']/=5764420\n",
    "df['Negative']/=895978\n",
    "df['Achievements']/=9821\n",
    "df['Recommendations']/=3441592\n",
    "df['Average playtime forever']/=145727\n",
    "df['Median playtime forever']/=208473\n",
    "df['Average playtime two weeks']/=10996\n",
    "df['Median playtime two weeks']/=10996\n",
    "df['Estimated owners']/=2000\n",
    "df['Pub ID']/=43298\n",
    "df['Dev ID']/=49600\n",
    "df['Estimated owners']=df['Estimated owners']/100000\n",
    "df['Release date']=df['Release date']/20000"
   ]
  },
  {
   "cell_type": "code",
   "execution_count": 933,
   "id": "eec7d370-6e3b-4d6d-9e26-054c7d4accab",
   "metadata": {},
   "outputs": [
    {
     "data": {
      "text/html": [
       "<div>\n",
       "<style scoped>\n",
       "    .dataframe tbody tr th:only-of-type {\n",
       "        vertical-align: middle;\n",
       "    }\n",
       "\n",
       "    .dataframe tbody tr th {\n",
       "        vertical-align: top;\n",
       "    }\n",
       "\n",
       "    .dataframe thead th {\n",
       "        text-align: right;\n",
       "    }\n",
       "</style>\n",
       "<table border=\"1\" class=\"dataframe\">\n",
       "  <thead>\n",
       "    <tr style=\"text-align: right;\">\n",
       "      <th></th>\n",
       "      <th>Release date</th>\n",
       "      <th>Estimated owners</th>\n",
       "      <th>Peak CCU</th>\n",
       "      <th>DLC count</th>\n",
       "      <th>Windows</th>\n",
       "      <th>Metacritic score</th>\n",
       "      <th>User score</th>\n",
       "      <th>Positive</th>\n",
       "      <th>Negative</th>\n",
       "      <th>Achievements</th>\n",
       "      <th>Recommendations</th>\n",
       "      <th>Average playtime forever</th>\n",
       "      <th>Average playtime two weeks</th>\n",
       "      <th>Median playtime forever</th>\n",
       "      <th>Median playtime two weeks</th>\n",
       "      <th>Pub ID</th>\n",
       "      <th>Dev ID</th>\n",
       "    </tr>\n",
       "  </thead>\n",
       "  <tbody>\n",
       "    <tr>\n",
       "      <th>0</th>\n",
       "      <td>0.70865</td>\n",
       "      <td>0.0001</td>\n",
       "      <td>0.0</td>\n",
       "      <td>0.0</td>\n",
       "      <td>True</td>\n",
       "      <td>0.0</td>\n",
       "      <td>0.0</td>\n",
       "      <td>1.040868e-06</td>\n",
       "      <td>0.000012</td>\n",
       "      <td>0.003055</td>\n",
       "      <td>0.0</td>\n",
       "      <td>0.0</td>\n",
       "      <td>0.0</td>\n",
       "      <td>0.0</td>\n",
       "      <td>0.0</td>\n",
       "      <td>0.000000</td>\n",
       "      <td>0.000000</td>\n",
       "    </tr>\n",
       "    <tr>\n",
       "      <th>1</th>\n",
       "      <td>0.87255</td>\n",
       "      <td>0.0001</td>\n",
       "      <td>0.0</td>\n",
       "      <td>0.0</td>\n",
       "      <td>True</td>\n",
       "      <td>0.0</td>\n",
       "      <td>0.0</td>\n",
       "      <td>9.194334e-06</td>\n",
       "      <td>0.000006</td>\n",
       "      <td>0.001222</td>\n",
       "      <td>0.0</td>\n",
       "      <td>0.0</td>\n",
       "      <td>0.0</td>\n",
       "      <td>0.0</td>\n",
       "      <td>0.0</td>\n",
       "      <td>0.000023</td>\n",
       "      <td>0.000020</td>\n",
       "    </tr>\n",
       "    <tr>\n",
       "      <th>2</th>\n",
       "      <td>0.94740</td>\n",
       "      <td>0.0001</td>\n",
       "      <td>0.0</td>\n",
       "      <td>0.0</td>\n",
       "      <td>True</td>\n",
       "      <td>0.0</td>\n",
       "      <td>0.0</td>\n",
       "      <td>0.000000e+00</td>\n",
       "      <td>0.000000</td>\n",
       "      <td>0.000000</td>\n",
       "      <td>0.0</td>\n",
       "      <td>0.0</td>\n",
       "      <td>0.0</td>\n",
       "      <td>0.0</td>\n",
       "      <td>0.0</td>\n",
       "      <td>0.000046</td>\n",
       "      <td>0.000040</td>\n",
       "    </tr>\n",
       "    <tr>\n",
       "      <th>3</th>\n",
       "      <td>0.92330</td>\n",
       "      <td>0.0001</td>\n",
       "      <td>0.0</td>\n",
       "      <td>0.0</td>\n",
       "      <td>True</td>\n",
       "      <td>0.0</td>\n",
       "      <td>0.0</td>\n",
       "      <td>5.204340e-07</td>\n",
       "      <td>0.000000</td>\n",
       "      <td>0.000000</td>\n",
       "      <td>0.0</td>\n",
       "      <td>0.0</td>\n",
       "      <td>0.0</td>\n",
       "      <td>0.0</td>\n",
       "      <td>0.0</td>\n",
       "      <td>0.000069</td>\n",
       "      <td>0.000060</td>\n",
       "    </tr>\n",
       "    <tr>\n",
       "      <th>4</th>\n",
       "      <td>0.91475</td>\n",
       "      <td>0.0001</td>\n",
       "      <td>0.0</td>\n",
       "      <td>0.0</td>\n",
       "      <td>True</td>\n",
       "      <td>0.0</td>\n",
       "      <td>0.0</td>\n",
       "      <td>8.673900e-06</td>\n",
       "      <td>0.000009</td>\n",
       "      <td>0.001731</td>\n",
       "      <td>0.0</td>\n",
       "      <td>0.0</td>\n",
       "      <td>0.0</td>\n",
       "      <td>0.0</td>\n",
       "      <td>0.0</td>\n",
       "      <td>0.000092</td>\n",
       "      <td>0.000081</td>\n",
       "    </tr>\n",
       "  </tbody>\n",
       "</table>\n",
       "</div>"
      ],
      "text/plain": [
       "   Release date  Estimated owners  Peak CCU  DLC count  Windows  \\\n",
       "0       0.70865            0.0001       0.0        0.0     True   \n",
       "1       0.87255            0.0001       0.0        0.0     True   \n",
       "2       0.94740            0.0001       0.0        0.0     True   \n",
       "3       0.92330            0.0001       0.0        0.0     True   \n",
       "4       0.91475            0.0001       0.0        0.0     True   \n",
       "\n",
       "   Metacritic score  User score      Positive  Negative  Achievements  \\\n",
       "0               0.0         0.0  1.040868e-06  0.000012      0.003055   \n",
       "1               0.0         0.0  9.194334e-06  0.000006      0.001222   \n",
       "2               0.0         0.0  0.000000e+00  0.000000      0.000000   \n",
       "3               0.0         0.0  5.204340e-07  0.000000      0.000000   \n",
       "4               0.0         0.0  8.673900e-06  0.000009      0.001731   \n",
       "\n",
       "   Recommendations  Average playtime forever  Average playtime two weeks  \\\n",
       "0              0.0                       0.0                         0.0   \n",
       "1              0.0                       0.0                         0.0   \n",
       "2              0.0                       0.0                         0.0   \n",
       "3              0.0                       0.0                         0.0   \n",
       "4              0.0                       0.0                         0.0   \n",
       "\n",
       "   Median playtime forever  Median playtime two weeks    Pub ID    Dev ID  \n",
       "0                      0.0                        0.0  0.000000  0.000000  \n",
       "1                      0.0                        0.0  0.000023  0.000020  \n",
       "2                      0.0                        0.0  0.000046  0.000040  \n",
       "3                      0.0                        0.0  0.000069  0.000060  \n",
       "4                      0.0                        0.0  0.000092  0.000081  "
      ]
     },
     "execution_count": 933,
     "metadata": {},
     "output_type": "execute_result"
    }
   ],
   "source": [
    "df.head()"
   ]
  },
  {
   "cell_type": "code",
   "execution_count": 934,
   "id": "66e3413f-9fb7-4c4e-b72a-d70f267ee865",
   "metadata": {},
   "outputs": [],
   "source": [
    "df.drop(axis=1, labels=[\"Peak CCU\", \"Metacritic score\", \"User score\", \"Positive\", \"Negative\", \"Achievements\", \"Recommendations\",\n",
    "                       \"Average playtime forever\", \"Average playtime two weeks\", \"Median playtime forever\",\n",
    "                       \"Median playtime two weeks\", \"DLC count\", \"Windows\", \"Pub ID\", \"Dev ID\", \"Release date\"], inplace=True)"
   ]
  },
  {
   "cell_type": "code",
   "execution_count": 935,
   "id": "921d7ae7-e433-434c-9b0c-ae9b0fd3121a",
   "metadata": {},
   "outputs": [
    {
     "data": {
      "text/plain": [
       "Estimated owners    1.0\n",
       "dtype: float64"
      ]
     },
     "execution_count": 935,
     "metadata": {},
     "output_type": "execute_result"
    }
   ],
   "source": [
    "df.max()"
   ]
  },
  {
   "cell_type": "code",
   "execution_count": 936,
   "id": "6cf11190-d42d-4cf6-a38f-6ca7879aaed3",
   "metadata": {},
   "outputs": [],
   "source": [
    "prices/=100"
   ]
  },
  {
   "cell_type": "code",
   "execution_count": 937,
   "id": "5aa60274-9b9c-4e77-8656-d79fe7ff58ec",
   "metadata": {
    "scrolled": true
   },
   "outputs": [
    {
     "data": {
      "text/html": [
       "<div>\n",
       "<style scoped>\n",
       "    .dataframe tbody tr th:only-of-type {\n",
       "        vertical-align: middle;\n",
       "    }\n",
       "\n",
       "    .dataframe tbody tr th {\n",
       "        vertical-align: top;\n",
       "    }\n",
       "\n",
       "    .dataframe thead th {\n",
       "        text-align: right;\n",
       "    }\n",
       "</style>\n",
       "<table border=\"1\" class=\"dataframe\">\n",
       "  <thead>\n",
       "    <tr style=\"text-align: right;\">\n",
       "      <th></th>\n",
       "      <th>Estimated owners</th>\n",
       "    </tr>\n",
       "  </thead>\n",
       "  <tbody>\n",
       "    <tr>\n",
       "      <th>0</th>\n",
       "      <td>0.0001</td>\n",
       "    </tr>\n",
       "    <tr>\n",
       "      <th>1</th>\n",
       "      <td>0.0001</td>\n",
       "    </tr>\n",
       "    <tr>\n",
       "      <th>2</th>\n",
       "      <td>0.0001</td>\n",
       "    </tr>\n",
       "    <tr>\n",
       "      <th>3</th>\n",
       "      <td>0.0001</td>\n",
       "    </tr>\n",
       "    <tr>\n",
       "      <th>4</th>\n",
       "      <td>0.0001</td>\n",
       "    </tr>\n",
       "    <tr>\n",
       "      <th>...</th>\n",
       "      <td>...</td>\n",
       "    </tr>\n",
       "    <tr>\n",
       "      <th>91</th>\n",
       "      <td>0.0001</td>\n",
       "    </tr>\n",
       "    <tr>\n",
       "      <th>93</th>\n",
       "      <td>0.0025</td>\n",
       "    </tr>\n",
       "    <tr>\n",
       "      <th>94</th>\n",
       "      <td>0.0001</td>\n",
       "    </tr>\n",
       "    <tr>\n",
       "      <th>95</th>\n",
       "      <td>0.0000</td>\n",
       "    </tr>\n",
       "    <tr>\n",
       "      <th>96</th>\n",
       "      <td>0.0250</td>\n",
       "    </tr>\n",
       "  </tbody>\n",
       "</table>\n",
       "<p>95 rows × 1 columns</p>\n",
       "</div>"
      ],
      "text/plain": [
       "    Estimated owners\n",
       "0             0.0001\n",
       "1             0.0001\n",
       "2             0.0001\n",
       "3             0.0001\n",
       "4             0.0001\n",
       "..               ...\n",
       "91            0.0001\n",
       "93            0.0025\n",
       "94            0.0001\n",
       "95            0.0000\n",
       "96            0.0250\n",
       "\n",
       "[95 rows x 1 columns]"
      ]
     },
     "execution_count": 937,
     "metadata": {},
     "output_type": "execute_result"
    }
   ],
   "source": [
    "df.head(n=95)"
   ]
  },
  {
   "cell_type": "code",
   "execution_count": 938,
   "id": "ab3f5359-05fa-4c69-8052-99d51083ed40",
   "metadata": {},
   "outputs": [],
   "source": [
    "import torch.nn as nn\n",
    "import torch"
   ]
  },
  {
   "cell_type": "code",
   "execution_count": 939,
   "id": "2393391a-25b5-47aa-b763-f0da97a509dc",
   "metadata": {},
   "outputs": [],
   "source": [
    "device = torch.device(\"cuda\" if torch.cuda.is_available() else \"cpu\")\n",
    "#device=\"cpu\""
   ]
  },
  {
   "cell_type": "code",
   "execution_count": 940,
   "id": "4687c7cf-2ce0-4493-a6d1-9e6fded8552b",
   "metadata": {},
   "outputs": [],
   "source": [
    "dfn=df.to_numpy()"
   ]
  },
  {
   "cell_type": "code",
   "execution_count": 941,
   "id": "bbd63010-6953-4b87-bfd7-6fedd347a326",
   "metadata": {},
   "outputs": [
    {
     "name": "stdout",
     "output_type": "stream",
     "text": [
      "[[0.0001]\n",
      " [0.0001]\n",
      " [0.0001]\n",
      " ...\n",
      " [0.    ]\n",
      " [0.    ]\n",
      " [0.    ]]\n",
      "[0.1999 0.0099 0.0499 ... 0.     0.0399 0.0999]\n"
     ]
    }
   ],
   "source": [
    "print(dfn)\n",
    "print(prices)"
   ]
  },
  {
   "cell_type": "code",
   "execution_count": 942,
   "id": "ff1caa0d-d3ec-4507-a1b4-c568ba20238d",
   "metadata": {},
   "outputs": [
    {
     "name": "stdout",
     "output_type": "stream",
     "text": [
      "[0.074814   0.074814   0.08092513 ... 0.074814   0.07629549 0.07475228]\n"
     ]
    },
    {
     "data": {
      "image/png": "[encoded data removed]",
      "text/plain": [
       "<Figure size 640x480 with 1 Axes>"
      ]
     },
     "metadata": {},
     "output_type": "display_data"
    }
   ],
   "source": [
    "from sklearn.model_selection import train_test_split\n",
    "X_train, X_test, y_train, y_test = train_test_split(dfn, prices, test_size=0.1, shuffle=True)\n",
    "\n",
    "from sklearn.linear_model import LinearRegression\n",
    "model=LinearRegression().fit(X_train, y_train)\n",
    "#print(model.score(X_test, y_test))\n",
    "#print(X_test)\n",
    "y_pred=model.predict(X_test)\n",
    "print(y_pred)\n",
    "for i in range(0, 10):\n",
    "    plt.scatter(i, y_pred[i], c='r')\n",
    "    plt.scatter(i, y_test[i], c='b')\n",
    "#print (y_pred, y_test)"
   ]
  },
  {
   "cell_type": "code",
   "execution_count": 943,
   "id": "ac62993f-05d0-4e88-a851-17a68472a4ee",
   "metadata": {},
   "outputs": [],
   "source": [
    "from torch.utils.data import Dataset, DataLoader\n",
    "\n",
    "class SteamDataset(Dataset):\n",
    "    def __init__(self, X, y, transform=None, device=\"cpu\"):\n",
    "        self.X=X\n",
    "        self.y=y\n",
    "    def __len__(self):\n",
    "        return len(self.y)\n",
    "    def __getitem__(self, idx):\n",
    "        X=self.X[idx]\n",
    "        X=np.float32(X)\n",
    "        X=torch.from_numpy(X).to(device)\n",
    "        y=float(self.y[idx])\n",
    "        y=torch.tensor([y], dtype=torch.float32).to(device)\n",
    "        return X, y"
   ]
  },
  {
   "cell_type": "code",
   "execution_count": 944,
   "id": "a7396659-cd14-4dab-9d8c-4dc8dba96cd8",
   "metadata": {},
   "outputs": [],
   "source": [
    "train_dataset=SteamDataset(X_train, y_train, device=device)\n",
    "test_dataset=SteamDataset(X_test, y_test, device=device)"
   ]
  },
  {
   "cell_type": "code",
   "execution_count": 945,
   "id": "db77b527-4a42-4d9c-be82-cac0c0478284",
   "metadata": {},
   "outputs": [],
   "source": [
    "BATCH_SIZE=10"
   ]
  },
  {
   "cell_type": "code",
   "execution_count": 946,
   "id": "8570b4f2-db14-4497-8745-8e57727ba598",
   "metadata": {},
   "outputs": [],
   "source": [
    "train_loader=DataLoader(train_dataset, batch_size=BATCH_SIZE, shuffle=True)\n",
    "test_loader=DataLoader(test_dataset, batch_size=BATCH_SIZE, shuffle=True)"
   ]
  },
  {
   "cell_type": "code",
   "execution_count": 947,
   "id": "0cb59e33-70e0-4ef6-99e4-40b18dabb67b",
   "metadata": {},
   "outputs": [],
   "source": [
    "import torch.nn as nn\n",
    "import torch\n",
    "class SteamNeural(nn.Module):\n",
    "    def __init__(self, n_hidden):\n",
    "        super().__init__()\n",
    "        self.l1=nn.Linear(1, n_hidden)\n",
    "        self.l2=nn.ReLU()\n",
    "        self.l3=nn.Linear(n_hidden, n_hidden)\n",
    "        self.l4=nn.ReLU()\n",
    "        self.l5=nn.Linear(n_hidden, 1)\n",
    "    def forward(self, x):\n",
    "        x=self.l2(self.l1(x))\n",
    "        x=self.l5(x)\n",
    "        return x"
   ]
  },
  {
   "cell_type": "code",
   "execution_count": null,
   "id": "f6fc77ab-b0fd-479d-afce-097fdea53827",
   "metadata": {},
   "outputs": [],
   "source": [
    "model=SteamNeural(1000).to(device)\n",
    "#print(model.state_dict())"
   ]
  },
  {
   "cell_type": "code",
   "execution_count": 949,
   "id": "b9d33343-c35d-40f2-aaf2-981722e5e46a",
   "metadata": {},
   "outputs": [],
   "source": [
    "loss_fn=nn.MSELoss()\n",
    "optimizer=torch.optim.SGD(params=model.parameters(), lr=0.1)"
   ]
  },
  {
   "cell_type": "code",
   "execution_count": 950,
   "id": "c324356c-25af-4dd9-b081-2e8f59924c84",
   "metadata": {},
   "outputs": [],
   "source": [
    "n_epoch=10"
   ]
  },
  {
   "cell_type": "code",
   "execution_count": 951,
   "id": "7d61c3bc-a8f4-4c95-bb9e-7a156b526e24",
   "metadata": {},
   "outputs": [
    {
     "name": "stdout",
     "output_type": "stream",
     "text": [
      "Epoch 1 Index 0 Loss: 0.00523347919806838\n",
      "Epoch 2 Index 0 Loss: 0.015178329311311245\n",
      "Epoch 3 Index 0 Loss: 0.0021738936193287373\n",
      "Epoch 4 Index 0 Loss: 0.008471338078379631\n",
      "Epoch 5 Index 0 Loss: 0.0049667940475046635\n",
      "Epoch 6 Index 0 Loss: 0.03231586143374443\n",
      "Epoch 7 Index 0 Loss: 0.006684072315692902\n",
      "Epoch 8 Index 0 Loss: 0.0021520168520510197\n",
      "Epoch 9 Index 0 Loss: 0.00697287917137146\n",
      "Epoch 10 Index 0 Loss: 0.00789598561823368\n",
      "Epoch 11 Index 0 Loss: 0.0051805926486849785\n",
      "Epoch 12 Index 0 Loss: 0.002469209721311927\n",
      "Epoch 13 Index 0 Loss: 0.00289018452167511\n",
      "Epoch 14 Index 0 Loss: 0.005721195600926876\n"
     ]
    },
    {
     "ename": "KeyboardInterrupt",
     "evalue": "",
     "output_type": "error",
     "traceback": [
      "\u001b[0;31m---------------------------------------------------------------------------\u001b[0m",
      "\u001b[0;31mKeyboardInterrupt\u001b[0m                         Traceback (most recent call last)",
      "Cell \u001b[0;32mIn[951], line 2\u001b[0m\n\u001b[1;32m      1\u001b[0m \u001b[38;5;28;01mfor\u001b[39;00m epoch \u001b[38;5;129;01min\u001b[39;00m \u001b[38;5;28mrange\u001b[39m(n_epoch):\n\u001b[0;32m----> 2\u001b[0m     \u001b[38;5;28;01mfor\u001b[39;00m i, (X, y) \u001b[38;5;129;01min\u001b[39;00m \u001b[38;5;28menumerate\u001b[39m(train_loader):\n\u001b[1;32m      3\u001b[0m         optimizer\u001b[38;5;241m.\u001b[39mzero_grad()  \u001b[38;5;66;03m# Zero the gradients\u001b[39;00m\n\u001b[1;32m      4\u001b[0m         y_pred \u001b[38;5;241m=\u001b[39m model(X)      \u001b[38;5;66;03m# Forward pass\u001b[39;00m\n",
      "File \u001b[0;32m~/Documents/IOAI/Notebooks/venv/lib/python3.10/site-packages/torch/utils/data/dataloader.py:631\u001b[0m, in \u001b[0;36m_BaseDataLoaderIter.__next__\u001b[0;34m(self)\u001b[0m\n\u001b[1;32m    628\u001b[0m \u001b[38;5;28;01mif\u001b[39;00m \u001b[38;5;28mself\u001b[39m\u001b[38;5;241m.\u001b[39m_sampler_iter \u001b[38;5;129;01mis\u001b[39;00m \u001b[38;5;28;01mNone\u001b[39;00m:\n\u001b[1;32m    629\u001b[0m     \u001b[38;5;66;03m# TODO(https://github.com/pytorch/pytorch/issues/76750)\u001b[39;00m\n\u001b[1;32m    630\u001b[0m     \u001b[38;5;28mself\u001b[39m\u001b[38;5;241m.\u001b[39m_reset()  \u001b[38;5;66;03m# type: ignore[call-arg]\u001b[39;00m\n\u001b[0;32m--> 631\u001b[0m data \u001b[38;5;241m=\u001b[39m \u001b[38;5;28;43mself\u001b[39;49m\u001b[38;5;241;43m.\u001b[39;49m\u001b[43m_next_data\u001b[49m\u001b[43m(\u001b[49m\u001b[43m)\u001b[49m\n\u001b[1;32m    632\u001b[0m \u001b[38;5;28mself\u001b[39m\u001b[38;5;241m.\u001b[39m_num_yielded \u001b[38;5;241m+\u001b[39m\u001b[38;5;241m=\u001b[39m \u001b[38;5;241m1\u001b[39m\n\u001b[1;32m    633\u001b[0m \u001b[38;5;28;01mif\u001b[39;00m \u001b[38;5;28mself\u001b[39m\u001b[38;5;241m.\u001b[39m_dataset_kind \u001b[38;5;241m==\u001b[39m _DatasetKind\u001b[38;5;241m.\u001b[39mIterable \u001b[38;5;129;01mand\u001b[39;00m \\\n\u001b[1;32m    634\u001b[0m         \u001b[38;5;28mself\u001b[39m\u001b[38;5;241m.\u001b[39m_IterableDataset_len_called \u001b[38;5;129;01mis\u001b[39;00m \u001b[38;5;129;01mnot\u001b[39;00m \u001b[38;5;28;01mNone\u001b[39;00m \u001b[38;5;129;01mand\u001b[39;00m \\\n\u001b[1;32m    635\u001b[0m         \u001b[38;5;28mself\u001b[39m\u001b[38;5;241m.\u001b[39m_num_yielded \u001b[38;5;241m>\u001b[39m \u001b[38;5;28mself\u001b[39m\u001b[38;5;241m.\u001b[39m_IterableDataset_len_called:\n",
      "File \u001b[0;32m~/Documents/IOAI/Notebooks/venv/lib/python3.10/site-packages/torch/utils/data/dataloader.py:675\u001b[0m, in \u001b[0;36m_SingleProcessDataLoaderIter._next_data\u001b[0;34m(self)\u001b[0m\n\u001b[1;32m    673\u001b[0m \u001b[38;5;28;01mdef\u001b[39;00m \u001b[38;5;21m_next_data\u001b[39m(\u001b[38;5;28mself\u001b[39m):\n\u001b[1;32m    674\u001b[0m     index \u001b[38;5;241m=\u001b[39m \u001b[38;5;28mself\u001b[39m\u001b[38;5;241m.\u001b[39m_next_index()  \u001b[38;5;66;03m# may raise StopIteration\u001b[39;00m\n\u001b[0;32m--> 675\u001b[0m     data \u001b[38;5;241m=\u001b[39m \u001b[38;5;28;43mself\u001b[39;49m\u001b[38;5;241;43m.\u001b[39;49m\u001b[43m_dataset_fetcher\u001b[49m\u001b[38;5;241;43m.\u001b[39;49m\u001b[43mfetch\u001b[49m\u001b[43m(\u001b[49m\u001b[43mindex\u001b[49m\u001b[43m)\u001b[49m  \u001b[38;5;66;03m# may raise StopIteration\u001b[39;00m\n\u001b[1;32m    676\u001b[0m     \u001b[38;5;28;01mif\u001b[39;00m \u001b[38;5;28mself\u001b[39m\u001b[38;5;241m.\u001b[39m_pin_memory:\n\u001b[1;32m    677\u001b[0m         data \u001b[38;5;241m=\u001b[39m _utils\u001b[38;5;241m.\u001b[39mpin_memory\u001b[38;5;241m.\u001b[39mpin_memory(data, \u001b[38;5;28mself\u001b[39m\u001b[38;5;241m.\u001b[39m_pin_memory_device)\n",
      "File \u001b[0;32m~/Documents/IOAI/Notebooks/venv/lib/python3.10/site-packages/torch/utils/data/_utils/fetch.py:51\u001b[0m, in \u001b[0;36m_MapDatasetFetcher.fetch\u001b[0;34m(self, possibly_batched_index)\u001b[0m\n\u001b[1;32m     49\u001b[0m         data \u001b[38;5;241m=\u001b[39m \u001b[38;5;28mself\u001b[39m\u001b[38;5;241m.\u001b[39mdataset\u001b[38;5;241m.\u001b[39m__getitems__(possibly_batched_index)\n\u001b[1;32m     50\u001b[0m     \u001b[38;5;28;01melse\u001b[39;00m:\n\u001b[0;32m---> 51\u001b[0m         data \u001b[38;5;241m=\u001b[39m [\u001b[38;5;28mself\u001b[39m\u001b[38;5;241m.\u001b[39mdataset[idx] \u001b[38;5;28;01mfor\u001b[39;00m idx \u001b[38;5;129;01min\u001b[39;00m possibly_batched_index]\n\u001b[1;32m     52\u001b[0m \u001b[38;5;28;01melse\u001b[39;00m:\n\u001b[1;32m     53\u001b[0m     data \u001b[38;5;241m=\u001b[39m \u001b[38;5;28mself\u001b[39m\u001b[38;5;241m.\u001b[39mdataset[possibly_batched_index]\n",
      "File \u001b[0;32m~/Documents/IOAI/Notebooks/venv/lib/python3.10/site-packages/torch/utils/data/_utils/fetch.py:51\u001b[0m, in \u001b[0;36m<listcomp>\u001b[0;34m(.0)\u001b[0m\n\u001b[1;32m     49\u001b[0m         data \u001b[38;5;241m=\u001b[39m \u001b[38;5;28mself\u001b[39m\u001b[38;5;241m.\u001b[39mdataset\u001b[38;5;241m.\u001b[39m__getitems__(possibly_batched_index)\n\u001b[1;32m     50\u001b[0m     \u001b[38;5;28;01melse\u001b[39;00m:\n\u001b[0;32m---> 51\u001b[0m         data \u001b[38;5;241m=\u001b[39m [\u001b[38;5;28;43mself\u001b[39;49m\u001b[38;5;241;43m.\u001b[39;49m\u001b[43mdataset\u001b[49m\u001b[43m[\u001b[49m\u001b[43midx\u001b[49m\u001b[43m]\u001b[49m \u001b[38;5;28;01mfor\u001b[39;00m idx \u001b[38;5;129;01min\u001b[39;00m possibly_batched_index]\n\u001b[1;32m     52\u001b[0m \u001b[38;5;28;01melse\u001b[39;00m:\n\u001b[1;32m     53\u001b[0m     data \u001b[38;5;241m=\u001b[39m \u001b[38;5;28mself\u001b[39m\u001b[38;5;241m.\u001b[39mdataset[possibly_batched_index]\n",
      "Cell \u001b[0;32mIn[943], line 12\u001b[0m, in \u001b[0;36mSteamDataset.__getitem__\u001b[0;34m(self, idx)\u001b[0m\n\u001b[1;32m     10\u001b[0m X\u001b[38;5;241m=\u001b[39m\u001b[38;5;28mself\u001b[39m\u001b[38;5;241m.\u001b[39mX[idx]\n\u001b[1;32m     11\u001b[0m X\u001b[38;5;241m=\u001b[39mnp\u001b[38;5;241m.\u001b[39mfloat32(X)\n\u001b[0;32m---> 12\u001b[0m X\u001b[38;5;241m=\u001b[39m\u001b[43mtorch\u001b[49m\u001b[38;5;241;43m.\u001b[39;49m\u001b[43mfrom_numpy\u001b[49m\u001b[43m(\u001b[49m\u001b[43mX\u001b[49m\u001b[43m)\u001b[49m\u001b[38;5;241;43m.\u001b[39;49m\u001b[43mto\u001b[49m\u001b[43m(\u001b[49m\u001b[43mdevice\u001b[49m\u001b[43m)\u001b[49m\n\u001b[1;32m     13\u001b[0m y\u001b[38;5;241m=\u001b[39m\u001b[38;5;28mfloat\u001b[39m(\u001b[38;5;28mself\u001b[39m\u001b[38;5;241m.\u001b[39my[idx])\n\u001b[1;32m     14\u001b[0m y\u001b[38;5;241m=\u001b[39mtorch\u001b[38;5;241m.\u001b[39mtensor([y], dtype\u001b[38;5;241m=\u001b[39mtorch\u001b[38;5;241m.\u001b[39mfloat32)\u001b[38;5;241m.\u001b[39mto(device)\n",
      "\u001b[0;31mKeyboardInterrupt\u001b[0m: "
     ]
    }
   ],
   "source": [
    "for epoch in range(n_epoch):\n",
    "    for i, (X, y) in enumerate(train_loader):\n",
    "        optimizer.zero_grad()  # Zero the gradients\n",
    "        y_pred = model(X)      # Forward pass\n",
    "        loss = loss_fn(y_pred, y)  # Compute loss\n",
    "        loss.backward()        # Backward pass\n",
    "        optimizer.step()       # Update weights\n",
    "        \n",
    "        if i % 10000 == 0:  # Adjust the logging frequency as needed\n",
    "            print(f'Epoch {epoch+1} Index {i} Loss: {loss.item()}')"
   ]
  },
  {
   "cell_type": "code",
   "execution_count": 952,
   "id": "46d167d9-a92c-4d31-8ddf-e47987c8bfe9",
   "metadata": {},
   "outputs": [],
   "source": [
    "torch.save(model, \"model.ckpt\")"
   ]
  },
  {
   "cell_type": "code",
   "execution_count": null,
   "id": "fb66938a-4dc3-478a-a4b7-3ea4f82430d0",
   "metadata": {},
   "outputs": [],
   "source": [
    "with torch.no_grad():\n",
    "    i=0\n",
    "    ind=0\n",
    "    for X, y in train_loader:\n",
    "        #print(y)\n",
    "        y_pred=model(X)\n",
    "        loss=loss_fn(y_pred, y)\n",
    "        if i%1==0:\n",
    "            #print (f'Index {i} Loss: {loss}')\n",
    "            for q in range(1):\n",
    "                j=random.randint(0, len(y_pred)-1)\n",
    "                #print(j, y[j].cpu().item(), y_pred[j].cpu().item())\n",
    "                plt.scatter(ind, y_pred[j].cpu().item(), c='r')\n",
    "                plt.scatter(ind, y[j].cpu().item(), c='b')\n",
    "                ind+=1\n",
    "        i+=1\n",
    "            "
   ]
  },
  {
   "cell_type": "code",
   "execution_count": null,
   "id": "ac6c2b3b-94f8-43cf-9afa-444b1f6dd207",
   "metadata": {},
   "outputs": [],
   "source": []
  }
 ],
 "metadata": {
  "kernelspec": {
   "display_name": "Python 3 (ipykernel)",
   "language": "python",
   "name": "python3"
  },
  "language_info": {
   "codemirror_mode": {
    "name": "ipython",
    "version": 3
   },
   "file_extension": ".py",
   "mimetype": "text/x-python",
   "name": "python",
   "nbconvert_exporter": "python",
   "pygments_lexer": "ipython3",
   "version": "3.10.14"
  }
 },
 "nbformat": 4,
 "nbformat_minor": 5
}
