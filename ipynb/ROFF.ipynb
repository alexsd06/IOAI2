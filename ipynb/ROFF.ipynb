{
 "cells": [
  {
   "cell_type": "code",
   "execution_count": 1,
   "id": "4ac4198a-efda-4636-897e-fe3c586dd683",
   "metadata": {},
   "outputs": [],
   "source": [
    "import torch\n",
    "from sklearn.metrics import f1_score, roc_auc_score, accuracy_score\n",
    "import numpy as np\n",
    "from datasets import load_dataset, Dataset\n",
    "from tqdm.notebook import tqdm\n",
    "from transformers import AutoModelForSequenceClassification, AutoTokenizer, EvalPrediction, TrainingArguments, Trainer, pipeline\n",
    "from huggingface_hub import notebook_login"
   ]
  },
  {
   "cell_type": "code",
   "execution_count": 2,
   "id": "47471434-8bba-41ff-8fa1-4218edfc3eb2",
   "metadata": {
    "scrolled": true
   },
   "outputs": [
    {
     "data": {
      "application/vnd.jupyter.widget-view+json": {
       "model_id": "dbecbddfc3f741bfaeaff4d9814b7522",
       "version_major": 2,
       "version_minor": 0
      },
      "text/plain": [
       "VBox(children=(HTML(value='<center> <img\\nsrc=https://huggingface.co/front/assets/huggingface_logo-noborder.sv…"
      ]
     },
     "metadata": {},
     "output_type": "display_data"
    }
   ],
   "source": [
    "notebook_login()"
   ]
  },
  {
   "cell_type": "code",
   "execution_count": 3,
   "id": "41870424-9cce-466c-bcd5-b6bb577a371c",
   "metadata": {},
   "outputs": [],
   "source": [
    "dataset=load_dataset('valurank/offensive-multi')"
   ]
  },
  {
   "cell_type": "code",
   "execution_count": 4,
   "id": "c297ddc1-7d1b-454c-a401-767c7b59c54f",
   "metadata": {},
   "outputs": [
    {
     "name": "stdout",
     "output_type": "stream",
     "text": [
      "DatasetDict({\n",
      "    train: Dataset({\n",
      "        features: ['source', 'text', 'label'],\n",
      "        num_rows: 36593\n",
      "    })\n",
      "})\n"
     ]
    }
   ],
   "source": [
    "print(dataset)"
   ]
  },
  {
   "cell_type": "code",
   "execution_count": 5,
   "id": "f77eed1d-9449-4a8f-9d17-a39fe1d6744d",
   "metadata": {},
   "outputs": [],
   "source": [
    "dataset=dataset.filter(lambda x: False if x['source']=='olid' else True)"
   ]
  },
  {
   "cell_type": "code",
   "execution_count": 6,
   "id": "6bf10c05-a6c0-43c9-abd9-ad7561ee3ab8",
   "metadata": {},
   "outputs": [
    {
     "name": "stdout",
     "output_type": "stream",
     "text": [
      "DatasetDict({\n",
      "    train: Dataset({\n",
      "        features: ['source', 'text', 'label'],\n",
      "        num_rows: 23353\n",
      "    })\n",
      "})\n"
     ]
    }
   ],
   "source": [
    "print (dataset)"
   ]
  },
  {
   "cell_type": "code",
   "execution_count": 7,
   "id": "94562f67-2581-406b-a30d-c09b8e60d358",
   "metadata": {},
   "outputs": [],
   "source": [
    "dataset=dataset.remove_columns('source')\n",
    "#dataset=dataset.map(lambda x: {'label': 'off'} if x['label']==1 else {'label': 'not'})"
   ]
  },
  {
   "cell_type": "code",
   "execution_count": 8,
   "id": "93f079b0-2b0c-43c7-a5c2-6c01a20c3276",
   "metadata": {},
   "outputs": [
    {
     "data": {
      "application/vnd.jupyter.widget-view+json": {
       "model_id": "92954a5dc8c14a65a6951569c148cd27",
       "version_major": 2,
       "version_minor": 0
      },
      "text/plain": [
       "  0%|          | 0/23353 [00:00<?, ?it/s]"
      ]
     },
     "metadata": {},
     "output_type": "display_data"
    },
    {
     "name": "stdout",
     "output_type": "stream",
     "text": [
      "19190 4163\n"
     ]
    }
   ],
   "source": [
    "off, nt = 0, 0\n",
    "def count_ds(dataset):\n",
    "    global off\n",
    "    global nt\n",
    "    off, nt = 0, 0\n",
    "    for x in tqdm(dataset['train']):\n",
    "        if x['label']==1:\n",
    "            off+=1\n",
    "        else:\n",
    "            nt+=1\n",
    "    print (off, nt)\n",
    "count_ds(dataset)"
   ]
  },
  {
   "cell_type": "code",
   "execution_count": 9,
   "id": "9a76a32d-b64d-470b-a2ba-1fb953a7e45d",
   "metadata": {},
   "outputs": [
    {
     "data": {
      "application/vnd.jupyter.widget-view+json": {
       "model_id": "4382accf81ee4826a2a680b272b5d0a7",
       "version_major": 2,
       "version_minor": 0
      },
      "text/plain": [
       "  0%|          | 0/8326 [00:00<?, ?it/s]"
      ]
     },
     "metadata": {},
     "output_type": "display_data"
    },
    {
     "name": "stdout",
     "output_type": "stream",
     "text": [
      "4163 4163\n"
     ]
    }
   ],
   "source": [
    "contor=0\n",
    "def filter_excess(x):\n",
    "    global contor\n",
    "    global nt\n",
    "    if x['label']==0:\n",
    "        return True\n",
    "    else:\n",
    "        if contor<nt:\n",
    "            contor+=1\n",
    "            return True\n",
    "        else:\n",
    "            return False\n",
    "dataset=dataset.filter(filter_excess)\n",
    "count_ds(dataset)"
   ]
  },
  {
   "cell_type": "code",
   "execution_count": 10,
   "id": "bfca46e6-1763-411f-85d9-5975e1585747",
   "metadata": {},
   "outputs": [
    {
     "name": "stdout",
     "output_type": "stream",
     "text": [
      "DatasetDict({\n",
      "    train: Dataset({\n",
      "        features: ['text', 'label'],\n",
      "        num_rows: 7493\n",
      "    })\n",
      "    test: Dataset({\n",
      "        features: ['text', 'label'],\n",
      "        num_rows: 833\n",
      "    })\n",
      "})\n"
     ]
    }
   ],
   "source": [
    "seed=42\n",
    "dataset=dataset.shuffle(seed=seed)\n",
    "dataset=Dataset.train_test_split(dataset['train'], test_size=0.1)\n",
    "print(dataset)"
   ]
  },
  {
   "cell_type": "code",
   "execution_count": 11,
   "id": "cb3d2d4e-14cd-49b9-9af7-cdf1a13f130f",
   "metadata": {},
   "outputs": [],
   "source": [
    "labels=['off', 'not']\n",
    "label2id={\n",
    "    'not': 0,\n",
    "    'off': 1\n",
    "}\n",
    "id2label={\n",
    "    0: 'not',\n",
    "    1: 'off'\n",
    "}"
   ]
  },
  {
   "cell_type": "code",
   "execution_count": 12,
   "id": "a8eb4cc0-2c19-4477-ac0f-eb6d2ad06999",
   "metadata": {},
   "outputs": [
    {
     "data": {
      "application/vnd.jupyter.widget-view+json": {
       "model_id": "f2b5cfc7c71745e79b90fca55738ec1e",
       "version_major": 2,
       "version_minor": 0
      },
      "text/plain": [
       "Map:   0%|          | 0/7493 [00:00<?, ? examples/s]"
      ]
     },
     "metadata": {},
     "output_type": "display_data"
    },
    {
     "data": {
      "application/vnd.jupyter.widget-view+json": {
       "model_id": "9e4c57a933364dd9a45d90b75310d4e2",
       "version_major": 2,
       "version_minor": 0
      },
      "text/plain": [
       "Map:   0%|          | 0/833 [00:00<?, ? examples/s]"
      ]
     },
     "metadata": {},
     "output_type": "display_data"
    }
   ],
   "source": [
    "tokenizer = AutoTokenizer.from_pretrained(\"bert-base-uncased\")\n",
    "\n",
    "def preprocess_data(examples):\n",
    "  text = examples[\"text\"]\n",
    "  encoding = tokenizer(text, padding=\"max_length\", truncation=True, max_length=128)\n",
    "  encoding[\"labels\"] = [[0.0, 1.0] if label==1 else [1.0, 0.0] for label in examples['label']]\n",
    "  return encoding\n",
    "\n",
    "encoded_dataset = dataset.map(preprocess_data, batched=True, remove_columns=dataset['train'].column_names)"
   ]
  },
  {
   "cell_type": "code",
   "execution_count": 13,
   "id": "110ac8c9-e1be-4a60-a7a6-7dd2df5f69f0",
   "metadata": {},
   "outputs": [
    {
     "name": "stdout",
     "output_type": "stream",
     "text": [
      "{'input_ids': [101, 2017, 2024, 2025, 1037, 4937, 1012, 2017, 2024, 1037, 22418, 999, 2304, 11471, 4845, 8563, 1037, 8872, 2011, 3225, 1037, 2543, 1012, 2073, 2003, 1996, 19006, 2017, 6887, 16585, 1029, 999, 1029, 999, 1029, 999, 1029, 102, 0, 0, 0, 0, 0, 0, 0, 0, 0, 0, 0, 0, 0, 0, 0, 0, 0, 0, 0, 0, 0, 0, 0, 0, 0, 0, 0, 0, 0, 0, 0, 0, 0, 0, 0, 0, 0, 0, 0, 0, 0, 0, 0, 0, 0, 0, 0, 0, 0, 0, 0, 0, 0, 0, 0, 0, 0, 0, 0, 0, 0, 0, 0, 0, 0, 0, 0, 0, 0, 0, 0, 0, 0, 0, 0, 0, 0, 0, 0, 0, 0, 0, 0, 0, 0, 0, 0, 0, 0, 0], 'token_type_ids': [0, 0, 0, 0, 0, 0, 0, 0, 0, 0, 0, 0, 0, 0, 0, 0, 0, 0, 0, 0, 0, 0, 0, 0, 0, 0, 0, 0, 0, 0, 0, 0, 0, 0, 0, 0, 0, 0, 0, 0, 0, 0, 0, 0, 0, 0, 0, 0, 0, 0, 0, 0, 0, 0, 0, 0, 0, 0, 0, 0, 0, 0, 0, 0, 0, 0, 0, 0, 0, 0, 0, 0, 0, 0, 0, 0, 0, 0, 0, 0, 0, 0, 0, 0, 0, 0, 0, 0, 0, 0, 0, 0, 0, 0, 0, 0, 0, 0, 0, 0, 0, 0, 0, 0, 0, 0, 0, 0, 0, 0, 0, 0, 0, 0, 0, 0, 0, 0, 0, 0, 0, 0, 0, 0, 0, 0, 0, 0], 'attention_mask': [1, 1, 1, 1, 1, 1, 1, 1, 1, 1, 1, 1, 1, 1, 1, 1, 1, 1, 1, 1, 1, 1, 1, 1, 1, 1, 1, 1, 1, 1, 1, 1, 1, 1, 1, 1, 1, 1, 0, 0, 0, 0, 0, 0, 0, 0, 0, 0, 0, 0, 0, 0, 0, 0, 0, 0, 0, 0, 0, 0, 0, 0, 0, 0, 0, 0, 0, 0, 0, 0, 0, 0, 0, 0, 0, 0, 0, 0, 0, 0, 0, 0, 0, 0, 0, 0, 0, 0, 0, 0, 0, 0, 0, 0, 0, 0, 0, 0, 0, 0, 0, 0, 0, 0, 0, 0, 0, 0, 0, 0, 0, 0, 0, 0, 0, 0, 0, 0, 0, 0, 0, 0, 0, 0, 0, 0, 0, 0], 'labels': [0.0, 1.0]}\n"
     ]
    }
   ],
   "source": [
    "print (encoded_dataset['train'][0])"
   ]
  },
  {
   "cell_type": "code",
   "execution_count": 14,
   "id": "f32cb32d-034d-4f9f-9a8e-67029b41b6af",
   "metadata": {},
   "outputs": [
    {
     "name": "stderr",
     "output_type": "stream",
     "text": [
      "Some weights of BertForSequenceClassification were not initialized from the model checkpoint at bert-base-uncased and are newly initialized: ['classifier.bias', 'classifier.weight']\n",
      "You should probably TRAIN this model on a down-stream task to be able to use it for predictions and inference.\n"
     ]
    }
   ],
   "source": [
    "torch.cuda.empty_cache()\n",
    "model = AutoModelForSequenceClassification.from_pretrained(\"bert-base-uncased\", \n",
    "                                                           problem_type=\"multi_label_classification\", \n",
    "                                                           num_labels=len(labels),\n",
    "                                                           id2label=id2label,\n",
    "                                                           label2id=label2id)"
   ]
  },
  {
   "cell_type": "code",
   "execution_count": 15,
   "id": "bf386529-3771-4a70-a3d8-c7ba8b68cdde",
   "metadata": {},
   "outputs": [],
   "source": [
    "# source: https://jesusleal.io/2021/04/21/Longformer-multilabel-classification/\n",
    "def multi_label_metrics(predictions, labels, threshold=0.5):\n",
    "    # first, apply sigmoid on predictions which are of shape (batch_size, num_labels)\n",
    "    sigmoid = torch.nn.Sigmoid()\n",
    "    probs = sigmoid(torch.Tensor(predictions))\n",
    "    # next, use threshold to turn them into integer predictions\n",
    "    y_pred = np.zeros(probs.shape)\n",
    "    y_pred[np.where(probs >= threshold)] = 1\n",
    "    # finally, compute metrics\n",
    "    y_true = labels\n",
    "    f1_micro_average = f1_score(y_true=y_true, y_pred=y_pred, average='micro')\n",
    "    roc_auc = roc_auc_score(y_true, y_pred, average = 'micro')\n",
    "    accuracy = accuracy_score(y_true, y_pred)\n",
    "    # return as dictionary\n",
    "    metrics = {'f1': f1_micro_average,\n",
    "               'roc_auc': roc_auc,\n",
    "               'accuracy': accuracy}\n",
    "    return metrics\n",
    "\n",
    "def compute_metrics(p: EvalPrediction):\n",
    "    preds = p.predictions[0] if isinstance(p.predictions, \n",
    "            tuple) else p.predictions\n",
    "    result = multi_label_metrics(\n",
    "        predictions=preds, \n",
    "        labels=p.label_ids)\n",
    "    return result"
   ]
  },
  {
   "cell_type": "code",
   "execution_count": 16,
   "id": "94ab06ee-cc43-4452-b5f8-85218563f1a1",
   "metadata": {},
   "outputs": [],
   "source": [
    "encoded_dataset.set_format(\"torch\")"
   ]
  },
  {
   "cell_type": "code",
   "execution_count": 17,
   "id": "247aafea-32a2-49fc-9443-6dba6e820acc",
   "metadata": {},
   "outputs": [],
   "source": [
    "batch_size = 30\n",
    "metric_name = \"f1\"\n",
    "epoch_count = 5 #TODO: Change this to 5 after testing"
   ]
  },
  {
   "cell_type": "code",
   "execution_count": 18,
   "id": "860fb606-1518-47cf-bc06-1f6e710df604",
   "metadata": {},
   "outputs": [],
   "source": [
    "model_path=f\"bert-offensive-finetuned\""
   ]
  },
  {
   "cell_type": "code",
   "execution_count": 19,
   "id": "b17562b3-ebe0-4b9f-84d5-cf7a8985f452",
   "metadata": {},
   "outputs": [
    {
     "name": "stderr",
     "output_type": "stream",
     "text": [
      "We strongly recommend passing in an `attention_mask` since your input_ids may be padded. See https://huggingface.co/docs/transformers/troubleshooting#incorrect-output-when-padding-tokens-arent-masked.\n"
     ]
    },
    {
     "data": {
      "text/plain": [
       "SequenceClassifierOutput(loss=tensor(0.6726, grad_fn=<BinaryCrossEntropyWithLogitsBackward0>), logits=tensor([[0.1027, 0.1974]], grad_fn=<AddmmBackward0>), hidden_states=None, attentions=None)"
      ]
     },
     "execution_count": 19,
     "metadata": {},
     "output_type": "execute_result"
    }
   ],
   "source": [
    "#forward pass\n",
    "outputs = model(\n",
    "    input_ids=encoded_dataset['train']['input_ids'][0].unsqueeze(0), \n",
    "    labels=encoded_dataset['train'][0]['labels'].unsqueeze(0)\n",
    ")\n",
    "outputs"
   ]
  },
  {
   "cell_type": "code",
   "execution_count": 20,
   "id": "e451bfc1-42da-44fb-bb2f-668eef7f668a",
   "metadata": {},
   "outputs": [],
   "source": [
    "args = TrainingArguments(\n",
    "    model_path,\n",
    "    eval_strategy = \"epoch\",\n",
    "    save_strategy = \"epoch\",\n",
    "    learning_rate=2e-5,\n",
    "    per_device_train_batch_size=batch_size,\n",
    "    per_device_eval_batch_size=batch_size,\n",
    "    num_train_epochs=epoch_count,\n",
    "    weight_decay=0.01,\n",
    "    load_best_model_at_end=True,\n",
    "    metric_for_best_model=metric_name,\n",
    "    #label_names=labels,\n",
    "    #push_to_hub=True,\n",
    ")"
   ]
  },
  {
   "cell_type": "code",
   "execution_count": 21,
   "id": "cd2a6e6f-2538-4a07-a53e-d079a71288d8",
   "metadata": {},
   "outputs": [],
   "source": [
    "trainer = Trainer(\n",
    "    model,\n",
    "    args,\n",
    "    train_dataset=encoded_dataset[\"train\"],\n",
    "    eval_dataset=encoded_dataset[\"test\"],\n",
    "    tokenizer=tokenizer,\n",
    "    compute_metrics=compute_metrics\n",
    ")"
   ]
  },
  {
   "cell_type": "code",
   "execution_count": 22,
   "id": "5ff7220e-91ee-4094-b3cb-b47bebe10a77",
   "metadata": {},
   "outputs": [
    {
     "data": {
      "text/html": [
       "\n",
       "    <div>\n",
       "      \n",
       "      <progress value='1250' max='1250' style='width:300px; height:20px; vertical-align: middle;'></progress>\n",
       "      [1250/1250 12:55, Epoch 5/5]\n",
       "    </div>\n",
       "    <table border=\"1\" class=\"dataframe\">\n",
       "  <thead>\n",
       " <tr style=\"text-align: left;\">\n",
       "      <th>Epoch</th>\n",
       "      <th>Training Loss</th>\n",
       "      <th>Validation Loss</th>\n",
       "      <th>F1</th>\n",
       "      <th>Roc Auc</th>\n",
       "      <th>Accuracy</th>\n",
       "    </tr>\n",
       "  </thead>\n",
       "  <tbody>\n",
       "    <tr>\n",
       "      <td>1</td>\n",
       "      <td>No log</td>\n",
       "      <td>0.124884</td>\n",
       "      <td>0.962785</td>\n",
       "      <td>0.962785</td>\n",
       "      <td>0.962785</td>\n",
       "    </tr>\n",
       "    <tr>\n",
       "      <td>2</td>\n",
       "      <td>0.176800</td>\n",
       "      <td>0.132337</td>\n",
       "      <td>0.959760</td>\n",
       "      <td>0.959784</td>\n",
       "      <td>0.959184</td>\n",
       "    </tr>\n",
       "    <tr>\n",
       "      <td>3</td>\n",
       "      <td>0.176800</td>\n",
       "      <td>0.168324</td>\n",
       "      <td>0.962785</td>\n",
       "      <td>0.962785</td>\n",
       "      <td>0.962785</td>\n",
       "    </tr>\n",
       "    <tr>\n",
       "      <td>4</td>\n",
       "      <td>0.050400</td>\n",
       "      <td>0.202723</td>\n",
       "      <td>0.954382</td>\n",
       "      <td>0.954382</td>\n",
       "      <td>0.954382</td>\n",
       "    </tr>\n",
       "    <tr>\n",
       "      <td>5</td>\n",
       "      <td>0.050400</td>\n",
       "      <td>0.206569</td>\n",
       "      <td>0.956783</td>\n",
       "      <td>0.956783</td>\n",
       "      <td>0.956783</td>\n",
       "    </tr>\n",
       "  </tbody>\n",
       "</table><p>"
      ],
      "text/plain": [
       "<IPython.core.display.HTML object>"
      ]
     },
     "metadata": {},
     "output_type": "display_data"
    },
    {
     "data": {
      "text/plain": [
       "TrainOutput(global_step=1250, training_loss=0.09595350799560547, metrics={'train_runtime': 775.9862, 'train_samples_per_second': 48.28, 'train_steps_per_second': 1.611, 'total_flos': 2464363922265600.0, 'train_loss': 0.09595350799560547, 'epoch': 5.0})"
      ]
     },
     "execution_count": 22,
     "metadata": {},
     "output_type": "execute_result"
    }
   ],
   "source": [
    "trainer.train()"
   ]
  },
  {
   "cell_type": "code",
   "execution_count": 23,
   "id": "f88819cd-d8a5-4d2b-bc26-c3272bfef3d6",
   "metadata": {},
   "outputs": [
    {
     "data": {
      "text/html": [
       "\n",
       "    <div>\n",
       "      \n",
       "      <progress value='28' max='28' style='width:300px; height:20px; vertical-align: middle;'></progress>\n",
       "      [28/28 00:06]\n",
       "    </div>\n",
       "    "
      ],
      "text/plain": [
       "<IPython.core.display.HTML object>"
      ]
     },
     "metadata": {},
     "output_type": "display_data"
    },
    {
     "data": {
      "text/plain": [
       "{'eval_loss': 0.12488430738449097,\n",
       " 'eval_f1': 0.9627851140456183,\n",
       " 'eval_roc_auc': 0.9627851140456183,\n",
       " 'eval_accuracy': 0.9627851140456183,\n",
       " 'eval_runtime': 7.0971,\n",
       " 'eval_samples_per_second': 117.371,\n",
       " 'eval_steps_per_second': 3.945,\n",
       " 'epoch': 5.0}"
      ]
     },
     "execution_count": 23,
     "metadata": {},
     "output_type": "execute_result"
    }
   ],
   "source": [
    "trainer.evaluate()"
   ]
  },
  {
   "cell_type": "code",
   "execution_count": 24,
   "id": "7e63065e-b04e-4aff-b549-530e915b1c4e",
   "metadata": {},
   "outputs": [],
   "source": [
    "trainer.save_model(model_path)"
   ]
  },
  {
   "cell_type": "code",
   "execution_count": 25,
   "id": "3bc6fee1-56c8-439b-b26a-b42d19ee3dbb",
   "metadata": {},
   "outputs": [
    {
     "data": {
      "application/vnd.jupyter.widget-view+json": {
       "model_id": "693a26f496684a1299340989455a3b1e",
       "version_major": 2,
       "version_minor": 0
      },
      "text/plain": [
       "model.safetensors:   0%|          | 0.00/438M [00:00<?, ?B/s]"
      ]
     },
     "metadata": {},
     "output_type": "display_data"
    },
    {
     "data": {
      "application/vnd.jupyter.widget-view+json": {
       "model_id": "27527690a5d94dfab8db0881b484492a",
       "version_major": 2,
       "version_minor": 0
      },
      "text/plain": [
       "training_args.bin:   0%|          | 0.00/5.11k [00:00<?, ?B/s]"
      ]
     },
     "metadata": {},
     "output_type": "display_data"
    },
    {
     "data": {
      "application/vnd.jupyter.widget-view+json": {
       "model_id": "d7009bee8fa64389858d8d144ca9cef9",
       "version_major": 2,
       "version_minor": 0
      },
      "text/plain": [
       "Upload 2 LFS files:   0%|          | 0/2 [00:00<?, ?it/s]"
      ]
     },
     "metadata": {},
     "output_type": "display_data"
    },
    {
     "data": {
      "text/plain": [
       "CommitInfo(commit_url='https://huggingface.co/alexsd06/bert-offensive-finetuned/commit/a894b087fe20dd63eb382d6058eb4e8fd6946231', commit_message='End of training', commit_description='', oid='a894b087fe20dd63eb382d6058eb4e8fd6946231', pr_url=None, pr_revision=None, pr_num=None)"
      ]
     },
     "execution_count": 25,
     "metadata": {},
     "output_type": "execute_result"
    }
   ],
   "source": [
    "trainer.push_to_hub()"
   ]
  },
  {
   "cell_type": "code",
   "execution_count": 26,
   "id": "5d709032-05b2-4f4a-9c4a-c2d3fb92bcbc",
   "metadata": {},
   "outputs": [],
   "source": [
    "pipe = pipeline('text-classification', model=model_path, device='cuda', truncation=True)"
   ]
  },
  {
   "cell_type": "code",
   "execution_count": 48,
   "id": "a22bbab3-c80c-4e3d-a3cf-1465adecaec3",
   "metadata": {},
   "outputs": [
    {
     "data": {
      "text/plain": [
       "[{'label': 'off', 'score': 0.9868566393852234}]"
      ]
     },
     "execution_count": 48,
     "metadata": {},
     "output_type": "execute_result"
    }
   ],
   "source": [
    "pipe (\"Go fuck off!\")"
   ]
  },
  {
   "cell_type": "code",
   "execution_count": 49,
   "id": "ef706920-ce31-4c67-935c-fb139826873a",
   "metadata": {},
   "outputs": [
    {
     "data": {
      "text/plain": [
       "[{'label': 'not', 'score': 0.9847993850708008}]"
      ]
     },
     "execution_count": 49,
     "metadata": {},
     "output_type": "execute_result"
    }
   ],
   "source": [
    "pipe (\"Could you help me debug this problem?\")"
   ]
  },
  {
   "cell_type": "code",
   "execution_count": 29,
   "id": "839572d0-bd03-411c-bbf2-7c3141996226",
   "metadata": {},
   "outputs": [
    {
     "data": {
      "application/vnd.jupyter.widget-view+json": {
       "model_id": "2f3926234874483994af4f25d0231465",
       "version_major": 2,
       "version_minor": 0
      },
      "text/plain": [
       "  0%|          | 0/833 [00:00<?, ?it/s]"
      ]
     },
     "metadata": {},
     "output_type": "display_data"
    },
    {
     "name": "stderr",
     "output_type": "stream",
     "text": [
      "You seem to be using the pipelines sequentially on GPU. In order to maximize efficiency please use a dataset\n"
     ]
    }
   ],
   "source": [
    "idx='test'\n",
    "l=len(dataset[idx])\n",
    "good, bad = 0, 0\n",
    "shown=0\n",
    "for item in tqdm(dataset[idx]):\n",
    "    text=item['text']\n",
    "    label=item['label']\n",
    "    label=id2label[label]\n",
    "    predict=pipe(text)[0]['label']\n",
    "    #if predict=='spam':\n",
    "    #    print ('spam') #The model nevers predicts spam!!!\n",
    "    #    break\n",
    "    if predict==label:\n",
    "        good+=1\n",
    "    else:\n",
    "        bad+=1"
   ]
  },
  {
   "cell_type": "code",
   "execution_count": 30,
   "id": "7f64271e-0bc8-4d3c-9299-cedede96aaaa",
   "metadata": {},
   "outputs": [
    {
     "name": "stdout",
     "output_type": "stream",
     "text": [
      "Accuracy 96.27851140456183%!\n",
      "Loss 3.721488595438175%!\n"
     ]
    }
   ],
   "source": [
    "print (f'Accuracy {100*good/l}%!')\n",
    "print (f'Loss {100*bad/l}%!')"
   ]
  },
  {
   "cell_type": "markdown",
   "id": "722dfa4e-a718-4bde-83e7-1007a22efd4e",
   "metadata": {},
   "source": [
    "**5 Epochs:**\n",
    "Accuracy 96.39855942376951%! Loss 3.6014405762304924%!\n",
    "\n",
    "**1 Epochs:**\n",
    "Accuracy 95.91836734693878%! Loss 4.081632653061225%!"
   ]
  },
  {
   "cell_type": "code",
   "execution_count": null,
   "id": "d564bb50-2ab5-4a02-80eb-fceb313bac2c",
   "metadata": {},
   "outputs": [],
   "source": []
  }
 ],
 "metadata": {
  "kernelspec": {
   "display_name": "Python 3 (ipykernel)",
   "language": "python",
   "name": "python3"
  },
  "language_info": {
   "codemirror_mode": {
    "name": "ipython",
    "version": 3
   },
   "file_extension": ".py",
   "mimetype": "text/x-python",
   "name": "python",
   "nbconvert_exporter": "python",
   "pygments_lexer": "ipython3",
   "version": "3.10.14"
  }
 },
 "nbformat": 4,
 "nbformat_minor": 5
}
