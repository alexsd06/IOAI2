{
 "cells": [
  {
   "cell_type": "code",
   "execution_count": 15,
   "id": "43395db5-cf9a-4587-9ada-1cfc85e00096",
   "metadata": {},
   "outputs": [
    {
     "name": "stdout",
     "output_type": "stream",
     "text": [
      "Collecting lxml\n",
      "  Downloading lxml-5.2.2-cp310-cp310-manylinux_2_28_x86_64.whl.metadata (3.4 kB)\n",
      "Downloading lxml-5.2.2-cp310-cp310-manylinux_2_28_x86_64.whl (5.0 MB)\n",
      "\u001b[2K   \u001b[38;2;114;156;31m━━━━━━━━━━━━━━━━━━━━━━━━━━━━━━━━━━━━━━━━\u001b[0m \u001b[32m5.0/5.0 MB\u001b[0m \u001b[31m17.9 MB/s\u001b[0m eta \u001b[36m0:00:00\u001b[0mm eta \u001b[36m0:00:01\u001b[0m[36m0:00:01\u001b[0m\n",
      "\u001b[?25hInstalling collected packages: lxml\n",
      "Successfully installed lxml-5.2.2\n",
      "\n",
      "\u001b[1m[\u001b[0m\u001b[34;49mnotice\u001b[0m\u001b[1;39;49m]\u001b[0m\u001b[39;49m A new release of pip is available: \u001b[0m\u001b[31;49m24.0\u001b[0m\u001b[39;49m -> \u001b[0m\u001b[32;49m24.1.1\u001b[0m\n",
      "\u001b[1m[\u001b[0m\u001b[34;49mnotice\u001b[0m\u001b[1;39;49m]\u001b[0m\u001b[39;49m To update, run: \u001b[0m\u001b[32;49mpip install --upgrade pip\u001b[0m\n"
     ]
    }
   ],
   "source": [
    "!pip3 install lxml"
   ]
  },
  {
   "cell_type": "code",
   "execution_count": 28,
   "id": "f96b7602-e7d4-4ce4-b43d-191284d172a5",
   "metadata": {},
   "outputs": [
    {
     "name": "stdout",
     "output_type": "stream",
     "text": [
      "Collecting transformers\n",
      "  Downloading transformers-4.42.3-py3-none-any.whl.metadata (43 kB)\n",
      "\u001b[2K     \u001b[38;2;114;156;31m━━━━━━━━━━━━━━━━━━━━━━━━━━━━━━━━━━━━━━━\u001b[0m \u001b[32m43.6/43.6 kB\u001b[0m \u001b[31m797.9 kB/s\u001b[0m eta \u001b[36m0:00:00\u001b[0m kB/s\u001b[0m eta \u001b[36m0:00:01\u001b[0m\n",
      "\u001b[?25hRequirement already satisfied: filelock in /home/alex/Documents/IOAI/Notebooks/venv/lib/python3.10/site-packages (from transformers) (3.15.3)\n",
      "Collecting huggingface-hub<1.0,>=0.23.2 (from transformers)\n",
      "  Downloading huggingface_hub-0.23.4-py3-none-any.whl.metadata (12 kB)\n",
      "Requirement already satisfied: numpy<2.0,>=1.17 in /home/alex/Documents/IOAI/Notebooks/venv/lib/python3.10/site-packages (from transformers) (1.26.4)\n",
      "Requirement already satisfied: packaging>=20.0 in /home/alex/Documents/IOAI/Notebooks/venv/lib/python3.10/site-packages (from transformers) (24.1)\n",
      "Requirement already satisfied: pyyaml>=5.1 in /home/alex/Documents/IOAI/Notebooks/venv/lib/python3.10/site-packages (from transformers) (6.0.1)\n",
      "Requirement already satisfied: regex!=2019.12.17 in /home/alex/Documents/IOAI/Notebooks/venv/lib/python3.10/site-packages (from transformers) (2024.5.15)\n",
      "Requirement already satisfied: requests in /home/alex/Documents/IOAI/Notebooks/venv/lib/python3.10/site-packages (from transformers) (2.32.3)\n",
      "Collecting safetensors>=0.4.1 (from transformers)\n",
      "  Downloading safetensors-0.4.3-cp310-cp310-manylinux_2_17_x86_64.manylinux2014_x86_64.whl.metadata (3.8 kB)\n",
      "Collecting tokenizers<0.20,>=0.19 (from transformers)\n",
      "  Downloading tokenizers-0.19.1-cp310-cp310-manylinux_2_17_x86_64.manylinux2014_x86_64.whl.metadata (6.7 kB)\n",
      "Requirement already satisfied: tqdm>=4.27 in /home/alex/Documents/IOAI/Notebooks/venv/lib/python3.10/site-packages (from transformers) (4.66.4)\n",
      "Requirement already satisfied: fsspec>=2023.5.0 in /home/alex/Documents/IOAI/Notebooks/venv/lib/python3.10/site-packages (from huggingface-hub<1.0,>=0.23.2->transformers) (2024.6.0)\n",
      "Requirement already satisfied: typing-extensions>=3.7.4.3 in /home/alex/Documents/IOAI/Notebooks/venv/lib/python3.10/site-packages (from huggingface-hub<1.0,>=0.23.2->transformers) (4.12.2)\n",
      "Requirement already satisfied: charset-normalizer<4,>=2 in /home/alex/Documents/IOAI/Notebooks/venv/lib/python3.10/site-packages (from requests->transformers) (3.3.2)\n",
      "Requirement already satisfied: idna<4,>=2.5 in /home/alex/Documents/IOAI/Notebooks/venv/lib/python3.10/site-packages (from requests->transformers) (3.7)\n",
      "Requirement already satisfied: urllib3<3,>=1.21.1 in /home/alex/Documents/IOAI/Notebooks/venv/lib/python3.10/site-packages (from requests->transformers) (2.2.2)\n",
      "Requirement already satisfied: certifi>=2017.4.17 in /home/alex/Documents/IOAI/Notebooks/venv/lib/python3.10/site-packages (from requests->transformers) (2024.6.2)\n",
      "Downloading transformers-4.42.3-py3-none-any.whl (9.3 MB)\n",
      "\u001b[2K   \u001b[38;2;114;156;31m━━━━━━━━━━━━━━━━━━━━━━━━━━━━━━━━━━━━━━━━\u001b[0m \u001b[32m9.3/9.3 MB\u001b[0m \u001b[31m34.0 MB/s\u001b[0m eta \u001b[36m0:00:00\u001b[0mm eta \u001b[36m0:00:01\u001b[0m[36m0:00:01\u001b[0m\n",
      "\u001b[?25hDownloading huggingface_hub-0.23.4-py3-none-any.whl (402 kB)\n",
      "\u001b[2K   \u001b[38;2;114;156;31m━━━━━━━━━━━━━━━━━━━━━━━━━━━━━━━━━━━━━━━━\u001b[0m \u001b[32m402.6/402.6 kB\u001b[0m \u001b[31m33.5 MB/s\u001b[0m eta \u001b[36m0:00:00\u001b[0m\n",
      "\u001b[?25hDownloading safetensors-0.4.3-cp310-cp310-manylinux_2_17_x86_64.manylinux2014_x86_64.whl (1.2 MB)\n",
      "\u001b[2K   \u001b[38;2;114;156;31m━━━━━━━━━━━━━━━━━━━━━━━━━━━━━━━━━━━━━━━━\u001b[0m \u001b[32m1.2/1.2 MB\u001b[0m \u001b[31m60.1 MB/s\u001b[0m eta \u001b[36m0:00:00\u001b[0m\n",
      "\u001b[?25hDownloading tokenizers-0.19.1-cp310-cp310-manylinux_2_17_x86_64.manylinux2014_x86_64.whl (3.6 MB)\n",
      "\u001b[2K   \u001b[38;2;114;156;31m━━━━━━━━━━━━━━━━━━━━━━━━━━━━━━━━━━━━━━━━\u001b[0m \u001b[32m3.6/3.6 MB\u001b[0m \u001b[31m77.4 MB/s\u001b[0m eta \u001b[36m0:00:00\u001b[0m0m eta \u001b[36m0:00:01\u001b[0m\n",
      "\u001b[?25hInstalling collected packages: safetensors, huggingface-hub, tokenizers, transformers\n",
      "Successfully installed huggingface-hub-0.23.4 safetensors-0.4.3 tokenizers-0.19.1 transformers-4.42.3\n",
      "\n",
      "\u001b[1m[\u001b[0m\u001b[34;49mnotice\u001b[0m\u001b[1;39;49m]\u001b[0m\u001b[39;49m A new release of pip is available: \u001b[0m\u001b[31;49m24.0\u001b[0m\u001b[39;49m -> \u001b[0m\u001b[32;49m24.1.1\u001b[0m\n",
      "\u001b[1m[\u001b[0m\u001b[34;49mnotice\u001b[0m\u001b[1;39;49m]\u001b[0m\u001b[39;49m To update, run: \u001b[0m\u001b[32;49mpip install --upgrade pip\u001b[0m\n"
     ]
    }
   ],
   "source": [
    "!pip install transformers"
   ]
  },
  {
   "cell_type": "code",
   "execution_count": 29,
   "id": "b5e057ff-0727-4ac3-ac1d-8b53503ef551",
   "metadata": {},
   "outputs": [
    {
     "name": "stdout",
     "output_type": "stream",
     "text": [
      "Collecting sentence-transformers\n",
      "  Downloading sentence_transformers-3.0.1-py3-none-any.whl.metadata (10 kB)\n",
      "Requirement already satisfied: transformers<5.0.0,>=4.34.0 in /home/alex/Documents/IOAI/Notebooks/venv/lib/python3.10/site-packages (from sentence-transformers) (4.42.3)\n",
      "Requirement already satisfied: tqdm in /home/alex/Documents/IOAI/Notebooks/venv/lib/python3.10/site-packages (from sentence-transformers) (4.66.4)\n",
      "Requirement already satisfied: torch>=1.11.0 in /home/alex/Documents/IOAI/Notebooks/venv/lib/python3.10/site-packages (from sentence-transformers) (2.3.1)\n",
      "Requirement already satisfied: numpy in /home/alex/Documents/IOAI/Notebooks/venv/lib/python3.10/site-packages (from sentence-transformers) (1.26.4)\n",
      "Requirement already satisfied: scikit-learn in /home/alex/Documents/IOAI/Notebooks/venv/lib/python3.10/site-packages (from sentence-transformers) (1.5.0)\n",
      "Requirement already satisfied: scipy in /home/alex/Documents/IOAI/Notebooks/venv/lib/python3.10/site-packages (from sentence-transformers) (1.10.1)\n",
      "Requirement already satisfied: huggingface-hub>=0.15.1 in /home/alex/Documents/IOAI/Notebooks/venv/lib/python3.10/site-packages (from sentence-transformers) (0.23.4)\n",
      "Requirement already satisfied: Pillow in /home/alex/Documents/IOAI/Notebooks/venv/lib/python3.10/site-packages (from sentence-transformers) (10.3.0)\n",
      "Requirement already satisfied: filelock in /home/alex/Documents/IOAI/Notebooks/venv/lib/python3.10/site-packages (from huggingface-hub>=0.15.1->sentence-transformers) (3.15.3)\n",
      "Requirement already satisfied: fsspec>=2023.5.0 in /home/alex/Documents/IOAI/Notebooks/venv/lib/python3.10/site-packages (from huggingface-hub>=0.15.1->sentence-transformers) (2024.6.0)\n",
      "Requirement already satisfied: packaging>=20.9 in /home/alex/Documents/IOAI/Notebooks/venv/lib/python3.10/site-packages (from huggingface-hub>=0.15.1->sentence-transformers) (24.1)\n",
      "Requirement already satisfied: pyyaml>=5.1 in /home/alex/Documents/IOAI/Notebooks/venv/lib/python3.10/site-packages (from huggingface-hub>=0.15.1->sentence-transformers) (6.0.1)\n",
      "Requirement already satisfied: requests in /home/alex/Documents/IOAI/Notebooks/venv/lib/python3.10/site-packages (from huggingface-hub>=0.15.1->sentence-transformers) (2.32.3)\n",
      "Requirement already satisfied: typing-extensions>=3.7.4.3 in /home/alex/Documents/IOAI/Notebooks/venv/lib/python3.10/site-packages (from huggingface-hub>=0.15.1->sentence-transformers) (4.12.2)\n",
      "Requirement already satisfied: sympy in /home/alex/Documents/IOAI/Notebooks/venv/lib/python3.10/site-packages (from torch>=1.11.0->sentence-transformers) (1.12.1)\n",
      "Requirement already satisfied: networkx in /home/alex/Documents/IOAI/Notebooks/venv/lib/python3.10/site-packages (from torch>=1.11.0->sentence-transformers) (3.3)\n",
      "Requirement already satisfied: jinja2 in /home/alex/Documents/IOAI/Notebooks/venv/lib/python3.10/site-packages (from torch>=1.11.0->sentence-transformers) (3.1.4)\n",
      "Requirement already satisfied: nvidia-cuda-nvrtc-cu12==12.1.105 in /home/alex/Documents/IOAI/Notebooks/venv/lib/python3.10/site-packages (from torch>=1.11.0->sentence-transformers) (12.1.105)\n",
      "Requirement already satisfied: nvidia-cuda-runtime-cu12==12.1.105 in /home/alex/Documents/IOAI/Notebooks/venv/lib/python3.10/site-packages (from torch>=1.11.0->sentence-transformers) (12.1.105)\n",
      "Requirement already satisfied: nvidia-cuda-cupti-cu12==12.1.105 in /home/alex/Documents/IOAI/Notebooks/venv/lib/python3.10/site-packages (from torch>=1.11.0->sentence-transformers) (12.1.105)\n",
      "Requirement already satisfied: nvidia-cudnn-cu12==8.9.2.26 in /home/alex/Documents/IOAI/Notebooks/venv/lib/python3.10/site-packages (from torch>=1.11.0->sentence-transformers) (8.9.2.26)\n",
      "Requirement already satisfied: nvidia-cublas-cu12==12.1.3.1 in /home/alex/Documents/IOAI/Notebooks/venv/lib/python3.10/site-packages (from torch>=1.11.0->sentence-transformers) (12.1.3.1)\n",
      "Requirement already satisfied: nvidia-cufft-cu12==11.0.2.54 in /home/alex/Documents/IOAI/Notebooks/venv/lib/python3.10/site-packages (from torch>=1.11.0->sentence-transformers) (11.0.2.54)\n",
      "Requirement already satisfied: nvidia-curand-cu12==10.3.2.106 in /home/alex/Documents/IOAI/Notebooks/venv/lib/python3.10/site-packages (from torch>=1.11.0->sentence-transformers) (10.3.2.106)\n",
      "Requirement already satisfied: nvidia-cusolver-cu12==11.4.5.107 in /home/alex/Documents/IOAI/Notebooks/venv/lib/python3.10/site-packages (from torch>=1.11.0->sentence-transformers) (11.4.5.107)\n",
      "Requirement already satisfied: nvidia-cusparse-cu12==12.1.0.106 in /home/alex/Documents/IOAI/Notebooks/venv/lib/python3.10/site-packages (from torch>=1.11.0->sentence-transformers) (12.1.0.106)\n",
      "Requirement already satisfied: nvidia-nccl-cu12==2.20.5 in /home/alex/Documents/IOAI/Notebooks/venv/lib/python3.10/site-packages (from torch>=1.11.0->sentence-transformers) (2.20.5)\n",
      "Requirement already satisfied: nvidia-nvtx-cu12==12.1.105 in /home/alex/Documents/IOAI/Notebooks/venv/lib/python3.10/site-packages (from torch>=1.11.0->sentence-transformers) (12.1.105)\n",
      "Requirement already satisfied: triton==2.3.1 in /home/alex/Documents/IOAI/Notebooks/venv/lib/python3.10/site-packages (from torch>=1.11.0->sentence-transformers) (2.3.1)\n",
      "Requirement already satisfied: nvidia-nvjitlink-cu12 in /home/alex/Documents/IOAI/Notebooks/venv/lib/python3.10/site-packages (from nvidia-cusolver-cu12==11.4.5.107->torch>=1.11.0->sentence-transformers) (12.5.40)\n",
      "Requirement already satisfied: regex!=2019.12.17 in /home/alex/Documents/IOAI/Notebooks/venv/lib/python3.10/site-packages (from transformers<5.0.0,>=4.34.0->sentence-transformers) (2024.5.15)\n",
      "Requirement already satisfied: safetensors>=0.4.1 in /home/alex/Documents/IOAI/Notebooks/venv/lib/python3.10/site-packages (from transformers<5.0.0,>=4.34.0->sentence-transformers) (0.4.3)\n",
      "Requirement already satisfied: tokenizers<0.20,>=0.19 in /home/alex/Documents/IOAI/Notebooks/venv/lib/python3.10/site-packages (from transformers<5.0.0,>=4.34.0->sentence-transformers) (0.19.1)\n",
      "Requirement already satisfied: joblib>=1.2.0 in /home/alex/Documents/IOAI/Notebooks/venv/lib/python3.10/site-packages (from scikit-learn->sentence-transformers) (1.4.2)\n",
      "Requirement already satisfied: threadpoolctl>=3.1.0 in /home/alex/Documents/IOAI/Notebooks/venv/lib/python3.10/site-packages (from scikit-learn->sentence-transformers) (3.5.0)\n",
      "Requirement already satisfied: MarkupSafe>=2.0 in /home/alex/Documents/IOAI/Notebooks/venv/lib/python3.10/site-packages (from jinja2->torch>=1.11.0->sentence-transformers) (2.1.5)\n",
      "Requirement already satisfied: charset-normalizer<4,>=2 in /home/alex/Documents/IOAI/Notebooks/venv/lib/python3.10/site-packages (from requests->huggingface-hub>=0.15.1->sentence-transformers) (3.3.2)\n",
      "Requirement already satisfied: idna<4,>=2.5 in /home/alex/Documents/IOAI/Notebooks/venv/lib/python3.10/site-packages (from requests->huggingface-hub>=0.15.1->sentence-transformers) (3.7)\n",
      "Requirement already satisfied: urllib3<3,>=1.21.1 in /home/alex/Documents/IOAI/Notebooks/venv/lib/python3.10/site-packages (from requests->huggingface-hub>=0.15.1->sentence-transformers) (2.2.2)\n",
      "Requirement already satisfied: certifi>=2017.4.17 in /home/alex/Documents/IOAI/Notebooks/venv/lib/python3.10/site-packages (from requests->huggingface-hub>=0.15.1->sentence-transformers) (2024.6.2)\n",
      "Requirement already satisfied: mpmath<1.4.0,>=1.1.0 in /home/alex/Documents/IOAI/Notebooks/venv/lib/python3.10/site-packages (from sympy->torch>=1.11.0->sentence-transformers) (1.3.0)\n",
      "Downloading sentence_transformers-3.0.1-py3-none-any.whl (227 kB)\n",
      "\u001b[2K   \u001b[38;2;114;156;31m━━━━━━━━━━━━━━━━━━━━━━━━━━━━━━━━━━━━━━━━\u001b[0m \u001b[32m227.1/227.1 kB\u001b[0m \u001b[31m1.9 MB/s\u001b[0m eta \u001b[36m0:00:00\u001b[0m MB/s\u001b[0m eta \u001b[36m0:00:01\u001b[0m01\u001b[0m\n",
      "\u001b[?25hInstalling collected packages: sentence-transformers\n",
      "Successfully installed sentence-transformers-3.0.1\n",
      "\n",
      "\u001b[1m[\u001b[0m\u001b[34;49mnotice\u001b[0m\u001b[1;39;49m]\u001b[0m\u001b[39;49m A new release of pip is available: \u001b[0m\u001b[31;49m24.0\u001b[0m\u001b[39;49m -> \u001b[0m\u001b[32;49m24.1.1\u001b[0m\n",
      "\u001b[1m[\u001b[0m\u001b[34;49mnotice\u001b[0m\u001b[1;39;49m]\u001b[0m\u001b[39;49m To update, run: \u001b[0m\u001b[32;49mpip install --upgrade pip\u001b[0m\n"
     ]
    }
   ],
   "source": [
    "!pip install -U sentence-transformers"
   ]
  },
  {
   "cell_type": "code",
   "execution_count": 16,
   "id": "f5c64289-4845-4365-a0eb-5635f3abd13b",
   "metadata": {},
   "outputs": [],
   "source": [
    "%config IPCompleter.greedy=True"
   ]
  },
  {
   "cell_type": "code",
   "execution_count": 42,
   "id": "0b6047a9-28ca-4696-a2a9-01d385a4f020",
   "metadata": {},
   "outputs": [],
   "source": [
    "import os\n",
    "import database\n",
    "import json\n",
    "import europrint_db\n",
    "import numpy as np\n",
    "import pandas as pd\n",
    "from numpy import dot\n",
    "from numpy.linalg import norm\n",
    "from tqdm import tqdm"
   ]
  },
  {
   "cell_type": "code",
   "execution_count": null,
   "id": "164afa5e-1d47-47dc-bbac-8bbafd54a021",
   "metadata": {},
   "outputs": [],
   "source": [
    "print (os.getcwd())\n",
    "db=europrint_db.update_db"
   ]
  },
  {
   "cell_type": "code",
   "execution_count": 17,
   "id": "aba9cc30-b892-4d0e-9dc8-05ef1a280f0a",
   "metadata": {},
   "outputs": [],
   "source": [
    "df=pd.read_xml(\"xml/product_feed.xml\")"
   ]
  },
  {
   "cell_type": "code",
   "execution_count": 19,
   "id": "fcf7ae11-4768-49dd-aa42-d6cc54c1060f",
   "metadata": {},
   "outputs": [],
   "source": [
    "df.drop([\"firmware\", \"master_category_id\", \"price_variants\", \"status\", \"stock\", \"attributes\", \"images\", \"estimare\"], axis=1, inplace=True)"
   ]
  },
  {
   "cell_type": "code",
   "execution_count": 24,
   "id": "eb5eae08-d933-4c7e-bb9f-63c72aeea09f",
   "metadata": {},
   "outputs": [],
   "source": [
    "df[\"text\"]=df['name']+' '+df['oem_code']+' '+df['description']+' '+df['manufacturer']+' '+df['category']"
   ]
  },
  {
   "cell_type": "code",
   "execution_count": 27,
   "id": "2b0a02f8-e062-4a51-9f6f-372791756857",
   "metadata": {},
   "outputs": [
    {
     "data": {
      "text/html": [
       "<div>\n",
       "<style scoped>\n",
       "    .dataframe tbody tr th:only-of-type {\n",
       "        vertical-align: middle;\n",
       "    }\n",
       "\n",
       "    .dataframe tbody tr th {\n",
       "        vertical-align: top;\n",
       "    }\n",
       "\n",
       "    .dataframe thead th {\n",
       "        text-align: right;\n",
       "    }\n",
       "</style>\n",
       "<table border=\"1\" class=\"dataframe\">\n",
       "  <thead>\n",
       "    <tr style=\"text-align: right;\">\n",
       "      <th></th>\n",
       "      <th>id</th>\n",
       "      <th>name</th>\n",
       "      <th>oem_code</th>\n",
       "      <th>description</th>\n",
       "      <th>manufacturer</th>\n",
       "      <th>category</th>\n",
       "      <th>text</th>\n",
       "    </tr>\n",
       "  </thead>\n",
       "  <tbody>\n",
       "    <tr>\n",
       "      <th>0</th>\n",
       "      <td>12470</td>\n",
       "      <td>Lex UNIV + MS/MX Abs Black 10Kg refill</td>\n",
       "      <td>LEX UNIV + MS/MX</td>\n",
       "      <td>Lexmark E120/ E230/ E232/ E234/ E240/ E250/ E2...</td>\n",
       "      <td>Lexmark</td>\n",
       "      <td>Toner Refil</td>\n",
       "      <td>Lex UNIV + MS/MX Abs Black 10Kg refill LEX UNI...</td>\n",
       "    </tr>\n",
       "    <tr>\n",
       "      <th>1</th>\n",
       "      <td>12469</td>\n",
       "      <td>Lex UNIV + MS/MX Abs Black 1Kg refill</td>\n",
       "      <td>LEX UNIV + MS/MX</td>\n",
       "      <td>Lexmark E120/ E230/ E232/ E234/ E240/ E250/ E2...</td>\n",
       "      <td>Lexmark</td>\n",
       "      <td>Toner Refil</td>\n",
       "      <td>Lex UNIV + MS/MX Abs Black 1Kg refill LEX UNIV...</td>\n",
       "    </tr>\n",
       "    <tr>\n",
       "      <th>2</th>\n",
       "      <td>12468</td>\n",
       "      <td>Lex UNIV + MS/MX Abs Black 500g refill</td>\n",
       "      <td>LEX UNIV + MS/MX</td>\n",
       "      <td>Lexmark E120/ E230/ E232/ E234/ E240/ E250/ E2...</td>\n",
       "      <td>Lexmark</td>\n",
       "      <td>Toner Refil</td>\n",
       "      <td>Lex UNIV + MS/MX Abs Black 500g refill LEX UNI...</td>\n",
       "    </tr>\n",
       "    <tr>\n",
       "      <th>3</th>\n",
       "      <td>12467</td>\n",
       "      <td>Lex MS/MX SUM OPC</td>\n",
       "      <td>24B6025, 24B6040, 50F0Z00, 50F0ZA0, 52D0Z00, 5...</td>\n",
       "      <td>LEXMARK MS310D, MS310DN, MS312DN, MS410D, MS41...</td>\n",
       "      <td>Lexmark</td>\n",
       "      <td>OPC</td>\n",
       "      <td>Lex MS/MX SUM OPC 24B6025, 24B6040, 50F0Z00, 5...</td>\n",
       "    </tr>\n",
       "    <tr>\n",
       "      <th>4</th>\n",
       "      <td>12466</td>\n",
       "      <td>UTX-PK5012 Black -Chip</td>\n",
       "      <td>PK-5012</td>\n",
       "      <td>UTAX PP-C3560iMFP, P-C3565iMFP, C3560DN</td>\n",
       "      <td>Utax</td>\n",
       "      <td>Chip</td>\n",
       "      <td>UTX-PK5012 Black -Chip PK-5012 UTAX PP-C3560iM...</td>\n",
       "    </tr>\n",
       "  </tbody>\n",
       "</table>\n",
       "</div>"
      ],
      "text/plain": [
       "      id                                    name  \\\n",
       "0  12470  Lex UNIV + MS/MX Abs Black 10Kg refill   \n",
       "1  12469   Lex UNIV + MS/MX Abs Black 1Kg refill   \n",
       "2  12468  Lex UNIV + MS/MX Abs Black 500g refill   \n",
       "3  12467                       Lex MS/MX SUM OPC   \n",
       "4  12466                  UTX-PK5012 Black -Chip   \n",
       "\n",
       "                                            oem_code  \\\n",
       "0                                   LEX UNIV + MS/MX   \n",
       "1                                   LEX UNIV + MS/MX   \n",
       "2                                   LEX UNIV + MS/MX   \n",
       "3  24B6025, 24B6040, 50F0Z00, 50F0ZA0, 52D0Z00, 5...   \n",
       "4                                            PK-5012   \n",
       "\n",
       "                                         description manufacturer  \\\n",
       "0  Lexmark E120/ E230/ E232/ E234/ E240/ E250/ E2...      Lexmark   \n",
       "1  Lexmark E120/ E230/ E232/ E234/ E240/ E250/ E2...      Lexmark   \n",
       "2  Lexmark E120/ E230/ E232/ E234/ E240/ E250/ E2...      Lexmark   \n",
       "3  LEXMARK MS310D, MS310DN, MS312DN, MS410D, MS41...      Lexmark   \n",
       "4            UTAX PP-C3560iMFP, P-C3565iMFP, C3560DN         Utax   \n",
       "\n",
       "      category                                               text  \n",
       "0  Toner Refil  Lex UNIV + MS/MX Abs Black 10Kg refill LEX UNI...  \n",
       "1  Toner Refil  Lex UNIV + MS/MX Abs Black 1Kg refill LEX UNIV...  \n",
       "2  Toner Refil  Lex UNIV + MS/MX Abs Black 500g refill LEX UNI...  \n",
       "3          OPC  Lex MS/MX SUM OPC 24B6025, 24B6040, 50F0Z00, 5...  \n",
       "4         Chip  UTX-PK5012 Black -Chip PK-5012 UTAX PP-C3560iM...  "
      ]
     },
     "execution_count": 27,
     "metadata": {},
     "output_type": "execute_result"
    }
   ],
   "source": [
    "df.head()"
   ]
  },
  {
   "cell_type": "code",
   "execution_count": 30,
   "id": "765db66b-65f6-4ba9-b67d-c6efb697269e",
   "metadata": {},
   "outputs": [
    {
     "name": "stdout",
     "output_type": "stream",
     "text": [
      "['Lex UNIV + MS/MX Abs Black 10Kg refill LEX UNIV + MS/MX Lexmark E120/ E230/ E232/ E234/ E240/ E250/ E260/ E330/ E332/ E340/ \\r\\nE342/ E350/ E352/ E360/ E450/ E460/ E462/ MS310/ MS312/ MS317/ MS321/ \\r\\nMS410/ MS415/ MS417/ MS421/ MS510/ MS517/ MS521/ MS610/ MS617/ MS621/ \\r\\nMS622/ MS710/ MS711 /MS810/ MS811/ MS812/ MS817/ MS818/ MX310/ MX317/ \\r\\nMX321/ MX410/ MX417/ MX421/ MX510/ MX511/ MX517/ MX521/ MX522/ MX611/ \\r\\nMX617/ MX622/ MX710/ MX711/ MX717/ MX718/ MX810/ MX811/ MX812/ T640/ \\r\\nT642/ T644/ T650/ T652/ T654/ T656/ X642/ X644/ X646/ X651/ X652/ X654/ \\r\\nX656/ X658/ Dell 1700/ 1710/ 1720/ 2230/ 2330/ 2350/ 3330/ 3333/ 3335/ \\r\\n5210/ 5230/ 5310/ 5350/ B2360/ B3460/ B3465/ B5460/ B5465/ P1500/ S2500,\\r\\n Minolta TNP-34, TNP-37, TNP-35, TNP-38, TNP-36, TNP-39, TNP-40, TNP-42,\\r\\n TNP-41, TNP-43, TNP-44, TNP-46 Lexmark Toner Refil', 'Lex UNIV + MS/MX Abs Black 1Kg refill LEX UNIV + MS/MX Lexmark E120/ E230/ E232/ E234/ E240/ E250/ E260/ E330/ E332/ E340/ \\r\\nE342/ E350/ E352/ E360/ E450/ E460/ E462/ MS310/ MS312/ MS317/ MS321/ \\r\\nMS410/ MS415/ MS417/ MS421/ MS510/ MS517/ MS521/ MS610/ MS617/ MS621/ \\r\\nMS622/ MS710/ MS711 /MS810/ MS811/ MS812/ MS817/ MS818/ MX310/ MX317/ \\r\\nMX321/ MX410/ MX417/ MX421/ MX510/ MX511/ MX517/ MX521/ MX522/ MX611/ \\r\\nMX617/ MX622/ MX710/ MX711/ MX717/ MX718/ MX810/ MX811/ MX812/ T640/ \\r\\nT642/ T644/ T650/ T652/ T654/ T656/ X642/ X644/ X646/ X651/ X652/ X654/ \\r\\nX656/ X658/ Dell 1700/ 1710/ 1720/ 2230/ 2330/ 2350/ 3330/ 3333/ 3335/ \\r\\n5210/ 5230/ 5310/ 5350/ B2360/ B3460/ B3465/ B5460/ B5465/ P1500/ S2500,\\r\\n Minolta TNP-34, TNP-37, TNP-35, TNP-38, TNP-36, TNP-39, TNP-40, TNP-42,\\r\\n TNP-41, TNP-43, TNP-44, TNP-46 Lexmark Toner Refil', 'Lex UNIV + MS/MX Abs Black 500g refill LEX UNIV + MS/MX Lexmark E120/ E230/ E232/ E234/ E240/ E250/ E260/ E330/ E332/ E340/ \\r\\nE342/ E350/ E352/ E360/ E450/ E460/ E462/ MS310/ MS312/ MS317/ MS321/ \\r\\nMS410/ MS415/ MS417/ MS421/ MS510/ MS517/ MS521/ MS610/ MS617/ MS621/ \\r\\nMS622/ MS710/ MS711 /MS810/ MS811/ MS812/ MS817/ MS818/ MX310/ MX317/ \\r\\nMX321/ MX410/ MX417/ MX421/ MX510/ MX511/ MX517/ MX521/ MX522/ MX611/ \\r\\nMX617/ MX622/ MX710/ MX711/ MX717/ MX718/ MX810/ MX811/ MX812/ T640/ \\r\\nT642/ T644/ T650/ T652/ T654/ T656/ X642/ X644/ X646/ X651/ X652/ X654/ \\r\\nX656/ X658/ Dell 1700/ 1710/ 1720/ 2230/ 2330/ 2350/ 3330/ 3333/ 3335/ \\r\\n5210/ 5230/ 5310/ 5350/ B2360/ B3460/ B3465/ B5460/ B5465/ P1500/ S2500,\\r\\n Minolta TNP-34, TNP-37, TNP-35, TNP-38, TNP-36, TNP-39, TNP-40, TNP-42,\\r\\n TNP-41, TNP-43, TNP-44, TNP-46 Lexmark Toner Refil']\n"
     ]
    }
   ],
   "source": [
    "text_list=df['text'].tolist()\n",
    "print(text_list[:3])"
   ]
  },
  {
   "cell_type": "code",
   "execution_count": 57,
   "id": "3e473ded-5edb-4ccd-b649-4b6a3892cfc6",
   "metadata": {},
   "outputs": [],
   "source": [
    "querry=\"Hp 302 xl\""
   ]
  },
  {
   "cell_type": "code",
   "execution_count": 46,
   "id": "36dc493a-118b-45c7-9f42-29863fea9fcf",
   "metadata": {},
   "outputs": [],
   "source": [
    "import torch\n",
    "device = \"cuda:0\" if torch.cuda.is_available() else \"cpu\""
   ]
  },
  {
   "cell_type": "code",
   "execution_count": 49,
   "id": "c5be76e1-50e9-40d6-8988-187fbe709473",
   "metadata": {},
   "outputs": [],
   "source": [
    "from sentence_transformers import SentenceTransformer\n",
    "model = SentenceTransformer('sentence-transformers/all-MiniLM-L6-v2')\n",
    "model = model.to(device)"
   ]
  },
  {
   "cell_type": "code",
   "execution_count": 58,
   "id": "65af1fac-655d-411d-bc23-aec6cb02d47c",
   "metadata": {},
   "outputs": [
    {
     "name": "stderr",
     "output_type": "stream",
     "text": [
      "100%|██████████████████████████████████████| 9328/9328 [00:42<00:00, 221.08it/s]"
     ]
    },
    {
     "name": "stdout",
     "output_type": "stream",
     "text": [
      "Best match: 0.5835865139961243\n",
      "HPC 302C XL V2 (F6U67AE) C NEW Ink 302XL, F6U67AE HP DESKJET 1110, DESKJET 1112, DESKJET 2130, DESKJET 2131, DESKJET 2132, DESKJET 2134, DESKJET 2136, DESKJET 3630, DESKJET 3631, DESKJET 3632, DESKJET 3633, DESKJET 3634, DESKJET 3635, DESKJET 3636, DESKJET 3637, DESKJET 3638, DESKJET 3639, ENVY 4512, ENVY 4516, ENVY 4520, ENVY 4521, ENVY 4522, ENVY 4523, ENVY 4524, ENVY 4525, ENVY 4526, ENVY 4527, ENVY 4528, OFFICEJET 3830, OFFICEJET 3831, OFFICEJET 3832, OFFICEJET 3833, OFFICEJET 3834, OFFICEJET 3835, OFFICEJET 4650, OFFICEJET 4652, OFFICEJET 4654, OFFICEJET 4655, OFFICEJET 4656, OFFICEJET 4657, OFFICEJET 4658, HP  Cartuse Inkjet\n"
     ]
    },
    {
     "name": "stderr",
     "output_type": "stream",
     "text": [
      "\n"
     ]
    }
   ],
   "source": [
    "best_sim=0\n",
    "best_index=0\n",
    "best_text=0\n",
    "index=0\n",
    "for text in tqdm(text_list):\n",
    "    sentences=[text, querry]\n",
    "    embeddings = model.encode(sentences)\n",
    "    a, b=embeddings[0], embeddings[1]\n",
    "    simp = dot(a, b)/(norm(a)*norm(b))\n",
    "    if simp>best_sim:\n",
    "        best_sim=simp\n",
    "        best_index=index\n",
    "        best_text=text\n",
    "    index+=1\n",
    "print (f'Best match: {best_sim}')\n",
    "print (best_text)"
   ]
  },
  {
   "cell_type": "code",
   "execution_count": null,
   "id": "e30e0fe9-b29b-4341-8c72-cf8ac9dc532c",
   "metadata": {},
   "outputs": [],
   "source": []
  }
 ],
 "metadata": {
  "kernelspec": {
   "display_name": "Python 3 (ipykernel)",
   "language": "python",
   "name": "python3"
  },
  "language_info": {
   "codemirror_mode": {
    "name": "ipython",
    "version": 3
   },
   "file_extension": ".py",
   "mimetype": "text/x-python",
   "name": "python",
   "nbconvert_exporter": "python",
   "pygments_lexer": "ipython3",
   "version": "3.10.14"
  }
 },
 "nbformat": 4,
 "nbformat_minor": 5
}
